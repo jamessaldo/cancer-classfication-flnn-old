{
 "cells": [
  {
   "cell_type": "markdown",
   "metadata": {
    "id": "A0jkNKbSXyDU"
   },
   "source": [
    "Nama         : Ghozy Ghulamul Afif\n",
    "\n",
    "NIM          : 1301170379\n",
    "\n",
    "Judul TA     : Implementasi Information Gain (IG) dan Genetic Algorithm (GA) untuk Reduksi Dimensi pada Klasifikasi Data Microarray Menggunakan Functional Link Neural Network (FLNN)\n",
    "\n",
    "Pembimbing 1 : Widi Astuti, S.T., M.Kom.\n",
    "\n",
    "Pembimbing 2 : Prof. Dr. Adiwijaya"
   ]
  },
  {
   "cell_type": "markdown",
   "metadata": {
    "id": "0Qh0del_I5dl"
   },
   "source": [
    "# 1. Preprocessing"
   ]
  },
  {
   "cell_type": "markdown",
   "metadata": {
    "id": "_K0cFh0oKSBF"
   },
   "source": [
    "## 1.1. Import Library"
   ]
  },
  {
   "cell_type": "code",
   "execution_count": 2,
   "metadata": {
    "id": "Cn8BCYDgZwHX"
   },
   "outputs": [],
   "source": [
    "import pandas as pd\n",
    "from sklearn.preprocessing import  MinMaxScaler\n",
    "from pandas import DataFrame\n",
    "from scipy.special import legendre\n",
    "import numpy as np\n",
    "from sklearn.model_selection import StratifiedKFold\n",
    "import matplotlib.pyplot as plt\n",
    "import keras\n",
    "from tensorflow.python.keras.layers import Dense\n",
    "from keras.optimizers import Adam\n",
    "from tensorflow.python.keras import Sequential\n",
    "from sklearn.metrics import accuracy_score, f1_score\n",
    "from sklearn.metrics import classification_report\n",
    "import random\n",
    "import timeit\n",
    "from sklearn.feature_selection import mutual_info_classif\n",
    "from sklearn.feature_selection import SelectKBest"
   ]
  },
  {
   "cell_type": "markdown",
   "metadata": {
    "id": "7vNrreDQZubc"
   },
   "source": [
    "## 1.2. Import Dataset"
   ]
  },
  {
   "cell_type": "code",
   "execution_count": 3,
   "metadata": {
    "id": "GMRraUUOzPk3"
   },
   "outputs": [],
   "source": [
    "# data lung\n",
    "url_test = \"https://raw.githubusercontent.com/jamessaldo/final-task/master/lungCancer_test.data\"\n",
    "url_train = \"https://raw.githubusercontent.com/jamessaldo/final-task/master/lungCancer_train.data\"\n",
    "data_train = pd.read_csv(url_test, header=None)\n",
    "data_test = pd.read_csv(url_train, header=None)\n",
    "data_lung = data_train.append(data_test, ignore_index = True)"
   ]
  },
  {
   "cell_type": "markdown",
   "metadata": {
    "id": "b4cB_13-TxQo"
   },
   "source": [
    "## 1.3. Check Missing Value"
   ]
  },
  {
   "cell_type": "code",
   "execution_count": 4,
   "metadata": {
    "colab": {
     "base_uri": "https://localhost:8080/"
    },
    "id": "R2aU78BwTwlz",
    "outputId": "f567de29-4293-466c-da79-c9ecd92bb5d4"
   },
   "outputs": [
    {
     "name": "stdout",
     "output_type": "stream",
     "text": [
      "Total Missing Value pada Data lung cancer: 0\n"
     ]
    }
   ],
   "source": [
    "print('Total Missing Value pada Data lung cancer:',data_lung.isnull().sum().sum())"
   ]
  },
  {
   "cell_type": "markdown",
   "metadata": {
    "id": "sU9gQQqhqSO7"
   },
   "source": [
    "## 1.4. Normalization"
   ]
  },
  {
   "cell_type": "code",
   "execution_count": 5,
   "metadata": {
    "id": "JedwSdEXqPlw"
   },
   "outputs": [],
   "source": [
    "# Melakukan normalisasi\n",
    "# data lung\n",
    "data_new_lung = data_lung.drop([12533],axis=1)\n",
    "scaler = MinMaxScaler()\n",
    "data_new_lung = scaler.fit_transform(data_new_lung)\n",
    "data_new_lung = DataFrame(data_new_lung)\n",
    "data_new_lung['label'] = list(data_lung[12533])\n",
    "dic = {'Mesothelioma':0,'ADCA':1}\n",
    "data_new_lung.replace(dic,inplace=True)"
   ]
  },
  {
   "cell_type": "markdown",
   "metadata": {
    "id": "fjCSdG9vz4pE"
   },
   "source": [
    "# 2. Define Reusable Function"
   ]
  },
  {
   "cell_type": "markdown",
   "metadata": {
    "id": "7OaQhLtNUEEn"
   },
   "source": [
    "## FLNN Classifier"
   ]
  },
  {
   "cell_type": "code",
   "execution_count": 7,
   "metadata": {
    "id": "Yj0yC_4o0xJn"
   },
   "outputs": [],
   "source": [
    "def FLNN_Classifier(data_train, data_test, orde, lr):\n",
    "    start = timeit.default_timer()\n",
    "    \n",
    "    x_data_train = data_train.drop(['label'],axis=1)\n",
    "    y_data_train = data_train['label']\n",
    "    x_data_test = data_test.drop(['label'],axis=1)\n",
    "    y_data_test = data_test['label']\n",
    "    \n",
    "    df_train = pd.DataFrame()\n",
    "    df_test = pd.DataFrame()\n",
    "\n",
    "    for x in range(1, orde+1):\n",
    "        pn = legendre(x)\n",
    "        y_orde = pn(x_data_train)\n",
    "        df_train = pd.concat([df_train, y_orde], axis=1)\n",
    "        \n",
    "        pn = legendre(x)\n",
    "        y_orde = pn(x_data_test)\n",
    "        df_test = pd.concat([df_test, y_orde], axis=1)\n",
    "\n",
    "    df_train.columns = [\"Attribut\"+str(i) for i in range(len(df_train.columns))]\n",
    "    df_train['label'] = y_data_train.reset_index().label\n",
    "    X_train = df_train.iloc[:, 0:len(df_train.columns)-1].values\n",
    "    y_train = df_train.iloc[:, len(df_train.columns)-1].values\n",
    "    \n",
    "    df_test.columns = [\"Attribut\"+str(i) for i in range(len(df_test.columns))]\n",
    "    df_test['label'] = y_data_test.reset_index().label\n",
    "    X_test = df_test.iloc[:, 0:len(df_test.columns)-1].values\n",
    "    y_test = df_test.iloc[:, len(df_test.columns)-1].values\n",
    "\n",
    "    # Melakukan proses klasifikasi FLNN\n",
    "    # Inisialisasi FLNN\n",
    "    Model = Sequential()\n",
    "    # Menambah input layer dan hidden layer pertama\n",
    "    Model.add(Dense(units = len(df_train.columns)-1, kernel_initializer = 'uniform', input_dim = len(df_train.columns)-1))\n",
    "    # Menambah output layer\n",
    "    Model.add(Dense(units = 1, kernel_initializer = 'uniform', activation = 'sigmoid'))\n",
    "    # Menjalankan ANN\n",
    "    Model.compile(optimizer = Adam(learning_rate=lr), loss = 'mean_squared_error', metrics = ['accuracy'])\n",
    "    # Fitting ANN ke training set\n",
    "    history = Model.fit(X_train, y_train, batch_size = 50, epochs = 100, validation_split = 0.2, verbose=False)\n",
    "\n",
    "    #Memprediksi hasil test set\n",
    "    y_pred = Model(X_test)\n",
    "    y_pred =(y_pred >= 0.5)\n",
    "\n",
    "    #print(\"X_Train :\", X_train)\n",
    "    print(\"Y_Train :\", y_train)\n",
    "\n",
    "    #print(\"X_Test :\", X_test)\n",
    "    print(\"Y_Test :\", y_test)\n",
    "\n",
    "    akurasi = accuracy_score(y_test,y_pred)\n",
    "    F1 = f1_score(y_test, y_pred, average='macro')\n",
    "\n",
    "    print(\"Akurasi : \", akurasi)\n",
    "    print(\"F1_Score : \", F1)\n",
    "    print(classification_report(y_test,y_pred))\n",
    "\n",
    "    # Membuat confusion matrix\n",
    "    from sklearn.metrics import confusion_matrix \n",
    "    from mlxtend.plotting import plot_confusion_matrix\n",
    "    cm = confusion_matrix(y_test, y_pred)\n",
    "    fig, ax = plot_confusion_matrix(conf_mat = cm, figsize=(5,5))\n",
    "    plt.show()\n",
    "\n",
    "    stop = timeit.default_timer()\n",
    "    print('Running Time: ', stop - start) \n",
    "    return akurasi, F1, stop-start"
   ]
  },
  {
   "cell_type": "markdown",
   "metadata": {
    "id": "PQoKkj8-OIPX"
   },
   "source": [
    "# 3. Classification"
   ]
  },
  {
   "cell_type": "code",
   "execution_count": 8,
   "metadata": {
    "scrolled": true,
    "tags": []
   },
   "outputs": [
    {
     "name": "stdout",
     "output_type": "stream",
     "text": [
      "Train :  [  0   1   5   6   7   8  10  11  12  14  15  16  18  19  20  21  22  23\n",
      "  26  27  28  29  30  31  32  33  34  36  37  38  39  40  41  42  43  44\n",
      "  45  46  47  49  51  52  54  55  57  58  59  60  61  62  63  64  65  66\n",
      "  67  68  69  70  72  73  74  75  76  78  79  80  81  82  83  84  85  86\n",
      "  87  88  90  91  92  93  99 101 102 103 104 105 106 107 108 109 110 111\n",
      " 113 115 117 118 119 120 121 122 123 124 125 126 127 128 131 132 133 134\n",
      " 135 137 139 142 143 144 145 147 148 149 150 151 152 153 154 155 156 157\n",
      " 158 159 161 163 164 165 166 169 170 171 172 173 174 175 176 177 178 179] Test :  [  2   3   4   9  13  17  24  25  35  48  50  53  56  71  77  89  94  95\n",
      "  96  97  98 100 112 114 116 129 130 136 138 140 141 146 160 162 167 168\n",
      " 180]\n",
      "lung + IG Orde 2 v1\n"
     ]
    },
    {
     "ename": "KeyboardInterrupt",
     "evalue": "",
     "output_type": "error",
     "traceback": [
      "\u001b[1;31m---------------------------------------------------------------------------\u001b[0m",
      "\u001b[1;31mKeyboardInterrupt\u001b[0m                         Traceback (most recent call last)",
      "\u001b[1;32m<ipython-input-8-4666c089101e>\u001b[0m in \u001b[0;36m<module>\u001b[1;34m\u001b[0m\n\u001b[0;32m     20\u001b[0m \u001b[1;33m\u001b[0m\u001b[0m\n\u001b[0;32m     21\u001b[0m     \u001b[0mprint\u001b[0m\u001b[1;33m(\u001b[0m\u001b[1;34m\"lung + IG Orde 2 v1\"\u001b[0m\u001b[1;33m)\u001b[0m\u001b[1;33m\u001b[0m\u001b[1;33m\u001b[0m\u001b[0m\n\u001b[1;32m---> 22\u001b[1;33m     \u001b[0macc\u001b[0m\u001b[1;33m,\u001b[0m\u001b[0mf1\u001b[0m\u001b[1;33m,\u001b[0m\u001b[0mrt\u001b[0m \u001b[1;33m=\u001b[0m \u001b[0mFLNN_Classifier\u001b[0m\u001b[1;33m(\u001b[0m\u001b[0mdata_train\u001b[0m\u001b[1;33m.\u001b[0m\u001b[0mcopy\u001b[0m\u001b[1;33m(\u001b[0m\u001b[1;33m)\u001b[0m\u001b[1;33m,\u001b[0m \u001b[0mdata_test\u001b[0m\u001b[1;33m.\u001b[0m\u001b[0mcopy\u001b[0m\u001b[1;33m(\u001b[0m\u001b[1;33m)\u001b[0m\u001b[1;33m,\u001b[0m \u001b[1;36m2\u001b[0m\u001b[1;33m,\u001b[0m \u001b[1;36m0.6\u001b[0m\u001b[1;33m)\u001b[0m\u001b[1;33m\u001b[0m\u001b[1;33m\u001b[0m\u001b[0m\n\u001b[0m\u001b[0;32m     23\u001b[0m     \u001b[0makurasi_IG_2_v1\u001b[0m\u001b[1;33m.\u001b[0m\u001b[0mappend\u001b[0m\u001b[1;33m(\u001b[0m\u001b[0macc\u001b[0m\u001b[1;33m)\u001b[0m\u001b[1;33m\u001b[0m\u001b[1;33m\u001b[0m\u001b[0m\n\u001b[0;32m     24\u001b[0m     \u001b[0mf1_IG_2_v1\u001b[0m\u001b[1;33m.\u001b[0m\u001b[0mappend\u001b[0m\u001b[1;33m(\u001b[0m\u001b[0mf1\u001b[0m\u001b[1;33m)\u001b[0m\u001b[1;33m\u001b[0m\u001b[1;33m\u001b[0m\u001b[0m\n",
      "\u001b[1;32m<ipython-input-7-5d4122ce0bd5>\u001b[0m in \u001b[0;36mFLNN_Classifier\u001b[1;34m(data_train, data_test, orde, lr)\u001b[0m\n\u001b[0;32m     39\u001b[0m     \u001b[0mModel\u001b[0m\u001b[1;33m.\u001b[0m\u001b[0mcompile\u001b[0m\u001b[1;33m(\u001b[0m\u001b[0moptimizer\u001b[0m \u001b[1;33m=\u001b[0m \u001b[0mAdam\u001b[0m\u001b[1;33m(\u001b[0m\u001b[0mlearning_rate\u001b[0m\u001b[1;33m=\u001b[0m\u001b[0mlr\u001b[0m\u001b[1;33m)\u001b[0m\u001b[1;33m,\u001b[0m \u001b[0mloss\u001b[0m \u001b[1;33m=\u001b[0m \u001b[1;34m'mean_squared_error'\u001b[0m\u001b[1;33m,\u001b[0m \u001b[0mmetrics\u001b[0m \u001b[1;33m=\u001b[0m \u001b[1;33m[\u001b[0m\u001b[1;34m'accuracy'\u001b[0m\u001b[1;33m]\u001b[0m\u001b[1;33m)\u001b[0m\u001b[1;33m\u001b[0m\u001b[1;33m\u001b[0m\u001b[0m\n\u001b[0;32m     40\u001b[0m     \u001b[1;31m# Fitting ANN ke training set\u001b[0m\u001b[1;33m\u001b[0m\u001b[1;33m\u001b[0m\u001b[1;33m\u001b[0m\u001b[0m\n\u001b[1;32m---> 41\u001b[1;33m     \u001b[0mhistory\u001b[0m \u001b[1;33m=\u001b[0m \u001b[0mModel\u001b[0m\u001b[1;33m.\u001b[0m\u001b[0mfit\u001b[0m\u001b[1;33m(\u001b[0m\u001b[0mX_train\u001b[0m\u001b[1;33m,\u001b[0m \u001b[0my_train\u001b[0m\u001b[1;33m,\u001b[0m \u001b[0mbatch_size\u001b[0m \u001b[1;33m=\u001b[0m \u001b[1;36m50\u001b[0m\u001b[1;33m,\u001b[0m \u001b[0mepochs\u001b[0m \u001b[1;33m=\u001b[0m \u001b[1;36m100\u001b[0m\u001b[1;33m,\u001b[0m \u001b[0mvalidation_split\u001b[0m \u001b[1;33m=\u001b[0m \u001b[1;36m0.2\u001b[0m\u001b[1;33m,\u001b[0m \u001b[0mverbose\u001b[0m\u001b[1;33m=\u001b[0m\u001b[1;32mFalse\u001b[0m\u001b[1;33m)\u001b[0m\u001b[1;33m\u001b[0m\u001b[1;33m\u001b[0m\u001b[0m\n\u001b[0m\u001b[0;32m     42\u001b[0m \u001b[1;33m\u001b[0m\u001b[0m\n\u001b[0;32m     43\u001b[0m     \u001b[1;31m#Memprediksi hasil test set\u001b[0m\u001b[1;33m\u001b[0m\u001b[1;33m\u001b[0m\u001b[1;33m\u001b[0m\u001b[0m\n",
      "\u001b[1;32m~\\AppData\\Local\\Packages\\PythonSoftwareFoundation.Python.3.9_qbz5n2kfra8p0\\LocalCache\\local-packages\\Python39\\site-packages\\tensorflow\\python\\keras\\engine\\training.py\u001b[0m in \u001b[0;36mfit\u001b[1;34m(self, x, y, batch_size, epochs, verbose, callbacks, validation_split, validation_data, shuffle, class_weight, sample_weight, initial_epoch, steps_per_epoch, validation_steps, validation_batch_size, validation_freq, max_queue_size, workers, use_multiprocessing)\u001b[0m\n\u001b[0;32m   1181\u001b[0m                 _r=1):\n\u001b[0;32m   1182\u001b[0m               \u001b[0mcallbacks\u001b[0m\u001b[1;33m.\u001b[0m\u001b[0mon_train_batch_begin\u001b[0m\u001b[1;33m(\u001b[0m\u001b[0mstep\u001b[0m\u001b[1;33m)\u001b[0m\u001b[1;33m\u001b[0m\u001b[1;33m\u001b[0m\u001b[0m\n\u001b[1;32m-> 1183\u001b[1;33m               \u001b[0mtmp_logs\u001b[0m \u001b[1;33m=\u001b[0m \u001b[0mself\u001b[0m\u001b[1;33m.\u001b[0m\u001b[0mtrain_function\u001b[0m\u001b[1;33m(\u001b[0m\u001b[0miterator\u001b[0m\u001b[1;33m)\u001b[0m\u001b[1;33m\u001b[0m\u001b[1;33m\u001b[0m\u001b[0m\n\u001b[0m\u001b[0;32m   1184\u001b[0m               \u001b[1;32mif\u001b[0m \u001b[0mdata_handler\u001b[0m\u001b[1;33m.\u001b[0m\u001b[0mshould_sync\u001b[0m\u001b[1;33m:\u001b[0m\u001b[1;33m\u001b[0m\u001b[1;33m\u001b[0m\u001b[0m\n\u001b[0;32m   1185\u001b[0m                 \u001b[0mcontext\u001b[0m\u001b[1;33m.\u001b[0m\u001b[0masync_wait\u001b[0m\u001b[1;33m(\u001b[0m\u001b[1;33m)\u001b[0m\u001b[1;33m\u001b[0m\u001b[1;33m\u001b[0m\u001b[0m\n",
      "\u001b[1;32m~\\AppData\\Local\\Packages\\PythonSoftwareFoundation.Python.3.9_qbz5n2kfra8p0\\LocalCache\\local-packages\\Python39\\site-packages\\tensorflow\\python\\eager\\def_function.py\u001b[0m in \u001b[0;36m__call__\u001b[1;34m(self, *args, **kwds)\u001b[0m\n\u001b[0;32m    887\u001b[0m \u001b[1;33m\u001b[0m\u001b[0m\n\u001b[0;32m    888\u001b[0m       \u001b[1;32mwith\u001b[0m \u001b[0mOptionalXlaContext\u001b[0m\u001b[1;33m(\u001b[0m\u001b[0mself\u001b[0m\u001b[1;33m.\u001b[0m\u001b[0m_jit_compile\u001b[0m\u001b[1;33m)\u001b[0m\u001b[1;33m:\u001b[0m\u001b[1;33m\u001b[0m\u001b[1;33m\u001b[0m\u001b[0m\n\u001b[1;32m--> 889\u001b[1;33m         \u001b[0mresult\u001b[0m \u001b[1;33m=\u001b[0m \u001b[0mself\u001b[0m\u001b[1;33m.\u001b[0m\u001b[0m_call\u001b[0m\u001b[1;33m(\u001b[0m\u001b[1;33m*\u001b[0m\u001b[0margs\u001b[0m\u001b[1;33m,\u001b[0m \u001b[1;33m**\u001b[0m\u001b[0mkwds\u001b[0m\u001b[1;33m)\u001b[0m\u001b[1;33m\u001b[0m\u001b[1;33m\u001b[0m\u001b[0m\n\u001b[0m\u001b[0;32m    890\u001b[0m \u001b[1;33m\u001b[0m\u001b[0m\n\u001b[0;32m    891\u001b[0m       \u001b[0mnew_tracing_count\u001b[0m \u001b[1;33m=\u001b[0m \u001b[0mself\u001b[0m\u001b[1;33m.\u001b[0m\u001b[0mexperimental_get_tracing_count\u001b[0m\u001b[1;33m(\u001b[0m\u001b[1;33m)\u001b[0m\u001b[1;33m\u001b[0m\u001b[1;33m\u001b[0m\u001b[0m\n",
      "\u001b[1;32m~\\AppData\\Local\\Packages\\PythonSoftwareFoundation.Python.3.9_qbz5n2kfra8p0\\LocalCache\\local-packages\\Python39\\site-packages\\tensorflow\\python\\eager\\def_function.py\u001b[0m in \u001b[0;36m_call\u001b[1;34m(self, *args, **kwds)\u001b[0m\n\u001b[0;32m    915\u001b[0m       \u001b[1;31m# In this case we have created variables on the first call, so we run the\u001b[0m\u001b[1;33m\u001b[0m\u001b[1;33m\u001b[0m\u001b[1;33m\u001b[0m\u001b[0m\n\u001b[0;32m    916\u001b[0m       \u001b[1;31m# defunned version which is guaranteed to never create variables.\u001b[0m\u001b[1;33m\u001b[0m\u001b[1;33m\u001b[0m\u001b[1;33m\u001b[0m\u001b[0m\n\u001b[1;32m--> 917\u001b[1;33m       \u001b[1;32mreturn\u001b[0m \u001b[0mself\u001b[0m\u001b[1;33m.\u001b[0m\u001b[0m_stateless_fn\u001b[0m\u001b[1;33m(\u001b[0m\u001b[1;33m*\u001b[0m\u001b[0margs\u001b[0m\u001b[1;33m,\u001b[0m \u001b[1;33m**\u001b[0m\u001b[0mkwds\u001b[0m\u001b[1;33m)\u001b[0m  \u001b[1;31m# pylint: disable=not-callable\u001b[0m\u001b[1;33m\u001b[0m\u001b[1;33m\u001b[0m\u001b[0m\n\u001b[0m\u001b[0;32m    918\u001b[0m     \u001b[1;32melif\u001b[0m \u001b[0mself\u001b[0m\u001b[1;33m.\u001b[0m\u001b[0m_stateful_fn\u001b[0m \u001b[1;32mis\u001b[0m \u001b[1;32mnot\u001b[0m \u001b[1;32mNone\u001b[0m\u001b[1;33m:\u001b[0m\u001b[1;33m\u001b[0m\u001b[1;33m\u001b[0m\u001b[0m\n\u001b[0;32m    919\u001b[0m       \u001b[1;31m# Release the lock early so that multiple threads can perform the call\u001b[0m\u001b[1;33m\u001b[0m\u001b[1;33m\u001b[0m\u001b[1;33m\u001b[0m\u001b[0m\n",
      "\u001b[1;32m~\\AppData\\Local\\Packages\\PythonSoftwareFoundation.Python.3.9_qbz5n2kfra8p0\\LocalCache\\local-packages\\Python39\\site-packages\\tensorflow\\python\\eager\\function.py\u001b[0m in \u001b[0;36m__call__\u001b[1;34m(self, *args, **kwargs)\u001b[0m\n\u001b[0;32m   3021\u001b[0m       (graph_function,\n\u001b[0;32m   3022\u001b[0m        filtered_flat_args) = self._maybe_define_function(args, kwargs)\n\u001b[1;32m-> 3023\u001b[1;33m     return graph_function._call_flat(\n\u001b[0m\u001b[0;32m   3024\u001b[0m         filtered_flat_args, captured_inputs=graph_function.captured_inputs)  # pylint: disable=protected-access\n\u001b[0;32m   3025\u001b[0m \u001b[1;33m\u001b[0m\u001b[0m\n",
      "\u001b[1;32m~\\AppData\\Local\\Packages\\PythonSoftwareFoundation.Python.3.9_qbz5n2kfra8p0\\LocalCache\\local-packages\\Python39\\site-packages\\tensorflow\\python\\eager\\function.py\u001b[0m in \u001b[0;36m_call_flat\u001b[1;34m(self, args, captured_inputs, cancellation_manager)\u001b[0m\n\u001b[0;32m   1958\u001b[0m         and executing_eagerly):\n\u001b[0;32m   1959\u001b[0m       \u001b[1;31m# No tape is watching; skip to running the function.\u001b[0m\u001b[1;33m\u001b[0m\u001b[1;33m\u001b[0m\u001b[1;33m\u001b[0m\u001b[0m\n\u001b[1;32m-> 1960\u001b[1;33m       return self._build_call_outputs(self._inference_function.call(\n\u001b[0m\u001b[0;32m   1961\u001b[0m           ctx, args, cancellation_manager=cancellation_manager))\n\u001b[0;32m   1962\u001b[0m     forward_backward = self._select_forward_and_backward_functions(\n",
      "\u001b[1;32m~\\AppData\\Local\\Packages\\PythonSoftwareFoundation.Python.3.9_qbz5n2kfra8p0\\LocalCache\\local-packages\\Python39\\site-packages\\tensorflow\\python\\eager\\function.py\u001b[0m in \u001b[0;36mcall\u001b[1;34m(self, ctx, args, cancellation_manager)\u001b[0m\n\u001b[0;32m    589\u001b[0m       \u001b[1;32mwith\u001b[0m \u001b[0m_InterpolateFunctionError\u001b[0m\u001b[1;33m(\u001b[0m\u001b[0mself\u001b[0m\u001b[1;33m)\u001b[0m\u001b[1;33m:\u001b[0m\u001b[1;33m\u001b[0m\u001b[1;33m\u001b[0m\u001b[0m\n\u001b[0;32m    590\u001b[0m         \u001b[1;32mif\u001b[0m \u001b[0mcancellation_manager\u001b[0m \u001b[1;32mis\u001b[0m \u001b[1;32mNone\u001b[0m\u001b[1;33m:\u001b[0m\u001b[1;33m\u001b[0m\u001b[1;33m\u001b[0m\u001b[0m\n\u001b[1;32m--> 591\u001b[1;33m           outputs = execute.execute(\n\u001b[0m\u001b[0;32m    592\u001b[0m               \u001b[0mstr\u001b[0m\u001b[1;33m(\u001b[0m\u001b[0mself\u001b[0m\u001b[1;33m.\u001b[0m\u001b[0msignature\u001b[0m\u001b[1;33m.\u001b[0m\u001b[0mname\u001b[0m\u001b[1;33m)\u001b[0m\u001b[1;33m,\u001b[0m\u001b[1;33m\u001b[0m\u001b[1;33m\u001b[0m\u001b[0m\n\u001b[0;32m    593\u001b[0m               \u001b[0mnum_outputs\u001b[0m\u001b[1;33m=\u001b[0m\u001b[0mself\u001b[0m\u001b[1;33m.\u001b[0m\u001b[0m_num_outputs\u001b[0m\u001b[1;33m,\u001b[0m\u001b[1;33m\u001b[0m\u001b[1;33m\u001b[0m\u001b[0m\n",
      "\u001b[1;32m~\\AppData\\Local\\Packages\\PythonSoftwareFoundation.Python.3.9_qbz5n2kfra8p0\\LocalCache\\local-packages\\Python39\\site-packages\\tensorflow\\python\\eager\\execute.py\u001b[0m in \u001b[0;36mquick_execute\u001b[1;34m(op_name, num_outputs, inputs, attrs, ctx, name)\u001b[0m\n\u001b[0;32m     57\u001b[0m   \u001b[1;32mtry\u001b[0m\u001b[1;33m:\u001b[0m\u001b[1;33m\u001b[0m\u001b[1;33m\u001b[0m\u001b[0m\n\u001b[0;32m     58\u001b[0m     \u001b[0mctx\u001b[0m\u001b[1;33m.\u001b[0m\u001b[0mensure_initialized\u001b[0m\u001b[1;33m(\u001b[0m\u001b[1;33m)\u001b[0m\u001b[1;33m\u001b[0m\u001b[1;33m\u001b[0m\u001b[0m\n\u001b[1;32m---> 59\u001b[1;33m     tensors = pywrap_tfe.TFE_Py_Execute(ctx._handle, device_name, op_name,\n\u001b[0m\u001b[0;32m     60\u001b[0m                                         inputs, attrs, num_outputs)\n\u001b[0;32m     61\u001b[0m   \u001b[1;32mexcept\u001b[0m \u001b[0mcore\u001b[0m\u001b[1;33m.\u001b[0m\u001b[0m_NotOkStatusException\u001b[0m \u001b[1;32mas\u001b[0m \u001b[0me\u001b[0m\u001b[1;33m:\u001b[0m\u001b[1;33m\u001b[0m\u001b[1;33m\u001b[0m\u001b[0m\n",
      "\u001b[1;31mKeyboardInterrupt\u001b[0m: "
     ]
    }
   ],
   "source": [
    "start = timeit.default_timer()\n",
    "akurasi_IG_2_v1,f1_IG_2_v1,rt_IG_2_v1 = [],[],[]\n",
    "akurasi_IG_3_v1,f1_IG_3_v1,rt_IG_3_v1 = [],[],[]\n",
    "akurasi_IG_4_v1,f1_IG_4_v1,rt_IG_4_v1 = [],[],[]\n",
    "\n",
    "akurasi_IG_2_v2,f1_IG_2_v2,rt_IG_2_v2 = [],[],[]\n",
    "akurasi_IG_3_v2,f1_IG_3_v2,rt_IG_3_v2 = [],[],[]\n",
    "akurasi_IG_4_v2,f1_IG_4_v2,rt_IG_4_v2 = [],[],[]\n",
    "\n",
    "#Melakukan proses K-Fold\n",
    "kf = StratifiedKFold(n_splits=5, shuffle=True, random_state=10)\n",
    "kf.get_n_splits(data_new_lung)\n",
    "X = data_new_lung.copy().iloc[:, 0:len(data_new_lung.columns)-1].values\n",
    "Y = data_new_lung.copy().iloc[:, len(data_new_lung.columns)-1].values\n",
    "for train_index, test_index in kf.split(X,Y):\n",
    "    print(\"Train : \", train_index, \"Test : \", test_index)\n",
    "    data_train, data_test, y_train, y_test = pd.DataFrame(X[train_index]), pd.DataFrame(X[test_index]), Y[train_index], Y[test_index]\n",
    "    data_train['label'] = y_train\n",
    "    data_test['label'] = y_test\n",
    "    \n",
    "    print(\"lung Orde 2 v1\")\n",
    "    acc,f1,rt = FLNN_Classifier(data_train.copy(), data_test.copy(), 2, 0.6)\n",
    "    akurasi_IG_2_v1.append(acc)\n",
    "    f1_IG_2_v1.append(f1)\n",
    "    rt_IG_2_v1.append(rt)\n",
    "    print(\"lung Orde 3 v1\")\n",
    "    acc,f1,rt = FLNN_Classifier(data_train.copy(), data_test.copy(), 3, 0.6)\n",
    "    akurasi_IG_3_v1.append(acc)\n",
    "    f1_IG_3_v1.append(f1)\n",
    "    rt_IG_3_v1.append(rt)\n",
    "    print(\"lung Orde 4 v1\")\n",
    "    acc,f1,rt = FLNN_Classifier(data_train.copy(), data_test.copy(), 4, 0.6)\n",
    "    akurasi_IG_4_v1.append(acc)\n",
    "    f1_IG_4_v1.append(f1)\n",
    "    rt_IG_4_v1.append(rt)\n",
    "    \n",
    "    print(\"lung Orde 2 v2\")\n",
    "    acc,f1,rt = FLNN_Classifier(data_train.copy(), data_test.copy(), 2, 0.001)\n",
    "    akurasi_IG_2_v2.append(acc)\n",
    "    f1_IG_2_v2.append(f1)\n",
    "    rt_IG_2_v2.append(rt)\n",
    "    print(\"lung Orde 3 v2\")\n",
    "    acc,f1,rt = FLNN_Classifier(data_train.copy(), data_test.copy(), 3, 0.001)\n",
    "    akurasi_IG_3_v2.append(acc)\n",
    "    f1_IG_3_v2.append(f1)\n",
    "    rt_IG_3_v2.append(rt)\n",
    "    print(\"lung Orde 4 v1\")\n",
    "    acc,f1,rt = FLNN_Classifier(data_train.copy(), data_test.copy(), 4, 0.001)\n",
    "    akurasi_IG_4_v2.append(acc)\n",
    "    f1_IG_4_v2.append(f1)\n",
    "    rt_IG_4_v2.append(rt)\n",
    "    \n",
    "akurasi_IG_2_v1,f1_IG_2_v1,rt_IG_2_v1 = np.array(akurasi_IG_2_v1),np.array(f1_IG_2_v1),np.array(rt_IG_2_v1)\n",
    "akurasi_IG_3_v1,f1_IG_3_v1,rt_IG_3_v1 = np.array(akurasi_IG_3_v1),np.array(f1_IG_3_v1),np.array(rt_IG_3_v1)\n",
    "akurasi_IG_4_v1,f1_IG_4_v1,rt_IG_4_v1 = np.array(akurasi_IG_4_v1),np.array(f1_IG_4_v1),np.array(rt_IG_4_v1)\n",
    "\n",
    "akurasi_IG_2_v2,f1_IG_2_v2,rt_IG_2_v2 = np.array(akurasi_IG_2_v2),np.array(f1_IG_2_v2),np.array(rt_IG_2_v2)\n",
    "akurasi_IG_3_v2,f1_IG_3_v2,rt_IG_3_v2 = np.array(akurasi_IG_3_v2),np.array(f1_IG_3_v2),np.array(rt_IG_3_v2)\n",
    "akurasi_IG_4_v2,f1_IG_4_v2,rt_IG_4_v2 = np.array(akurasi_IG_4_v2),np.array(f1_IG_4_v2),np.array(rt_IG_4_v2)\n",
    "\n",
    "\n",
    "#Print Result\n",
    "print('===============================================================================================================================================================================================================')\n",
    "print('Avg accuracy lung cancer orde 2 v1 : ', akurasi_IG_2_v1.mean())\n",
    "print('Avg F1 score lung cancer orde 2 v1 : ', f1_IG_2_v1.mean())\n",
    "print('Avg running time lung cancer orde 2 v1 : ', rt_IG_2_v1.mean())\n",
    "print('Avg accuracy lung cancer orde 3 v1 : ', akurasi_IG_3_v1.mean())\n",
    "print('Avg F1 score lung cancer orde 3 v1 : ', f1_IG_3_v1.mean())\n",
    "print('Avg running time lung cancer orde 3 v1 : ', rt_IG_3_v1.mean())\n",
    "print('Avg accuracy lung cancer orde 4 v1 : ', akurasi_IG_4_v1.mean())\n",
    "print('Avg F1 score lung cancer orde 4 v1 : ', f1_IG_4_v1.mean())\n",
    "print('Avg running time lung cancer orde 4 v1 : ', rt_IG_4_v1.mean())\n",
    "print('===============================================================================================================================================================================================================')\n",
    "print('Avg accuracy lung cancer orde 2 v2 : ', akurasi_IG_2_v2.mean())\n",
    "print('Avg F1 score lung cancer orde 2 v2 : ', f1_IG_2_v2.mean())\n",
    "print('Avg running time lung cancer orde 2 v2 : ', rt_IG_2_v2.mean())\n",
    "print('Avg accuracy lung cancer orde 3 v2 : ', akurasi_IG_3_v2.mean())\n",
    "print('Avg F1 score lung cancer orde 3 v2 : ', f1_IG_3_v2.mean())\n",
    "print('Avg running time lung cancer orde 3 v2 : ', rt_IG_3_v2.mean())\n",
    "print('Avg accuracy lung cancer orde 4 v2 : ', akurasi_IG_4_v2.mean())\n",
    "print('Avg F1 score lung cancer orde 4 v2 : ', f1_IG_4_v2.mean())\n",
    "print('Avg running time lung cancer orde 4 v2 : ', rt_IG_4_v2.mean())\n",
    "print()\n",
    "stop = timeit.default_timer()\n",
    "print(\"Overall Running Time : \", stop-start)"
   ]
  }
 ],
 "metadata": {
  "accelerator": "TPU",
  "colab": {
   "collapsed_sections": [],
   "name": "Copy of Colon - Final Task",
   "provenance": []
  },
  "interpreter": {
   "hash": "10fa5b18b6821efcf1a0ca8a7bbd5168ce7aee3a71c9cf3dc990838fd8f195d9"
  },
  "kernelspec": {
   "display_name": "Python 3.9.6 64-bit",
   "name": "python3"
  },
  "language_info": {
   "name": "python",
   "version": ""
  }
 },
 "nbformat": 4,
 "nbformat_minor": 4
}