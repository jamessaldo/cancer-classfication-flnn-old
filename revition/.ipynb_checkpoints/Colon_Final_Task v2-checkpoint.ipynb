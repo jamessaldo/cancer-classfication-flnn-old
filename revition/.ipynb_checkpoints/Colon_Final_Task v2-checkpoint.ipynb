{
 "cells": [
  {
   "cell_type": "markdown",
   "metadata": {
    "id": "A0jkNKbSXyDU"
   },
   "source": [
    "Nama         : Ghozy Ghulamul Afif\n",
    "\n",
    "NIM          : 1301170379\n",
    "\n",
    "Judul TA     : Implementasi Information Gain (IG) dan Genetic Algorithm (GA) untuk Reduksi Dimensi pada Klasifikasi Data Microarray Menggunakan Functional Link Neural Network (FLNN)\n",
    "\n",
    "Pembimbing 1 : Widi Astuti, S.T., M.Kom.\n",
    "\n",
    "Pembimbing 2 : Prof. Dr. Adiwijaya"
   ]
  },
  {
   "cell_type": "markdown",
   "metadata": {
    "id": "0Qh0del_I5dl"
   },
   "source": [
    "# 1. Preprocessing"
   ]
  },
  {
   "cell_type": "markdown",
   "metadata": {
    "id": "_K0cFh0oKSBF"
   },
   "source": [
    "## 1.1. Import Library"
   ]
  },
  {
   "cell_type": "code",
   "execution_count": 1,
   "metadata": {
    "id": "Cn8BCYDgZwHX"
   },
   "outputs": [
    {
     "ename": "KeyboardInterrupt",
     "evalue": "",
     "output_type": "error",
     "traceback": [
      "\u001b[0;31m---------------------------------------------------------------------------\u001b[0m",
      "\u001b[0;31mKeyboardInterrupt\u001b[0m                         Traceback (most recent call last)",
      "\u001b[0;32m<ipython-input-1-b44cc0745917>\u001b[0m in \u001b[0;36m<module>\u001b[0;34m\u001b[0m\n\u001b[1;32m      6\u001b[0m \u001b[0;32mfrom\u001b[0m \u001b[0msklearn\u001b[0m\u001b[0;34m.\u001b[0m\u001b[0mmodel_selection\u001b[0m \u001b[0;32mimport\u001b[0m \u001b[0mStratifiedKFold\u001b[0m\u001b[0;34m\u001b[0m\u001b[0;34m\u001b[0m\u001b[0m\n\u001b[1;32m      7\u001b[0m \u001b[0;32mimport\u001b[0m \u001b[0mmatplotlib\u001b[0m\u001b[0;34m.\u001b[0m\u001b[0mpyplot\u001b[0m \u001b[0;32mas\u001b[0m \u001b[0mplt\u001b[0m\u001b[0;34m\u001b[0m\u001b[0;34m\u001b[0m\u001b[0m\n\u001b[0;32m----> 8\u001b[0;31m \u001b[0;32mimport\u001b[0m \u001b[0mkeras\u001b[0m\u001b[0;34m\u001b[0m\u001b[0;34m\u001b[0m\u001b[0m\n\u001b[0m\u001b[1;32m      9\u001b[0m \u001b[0;32mfrom\u001b[0m \u001b[0mtensorflow\u001b[0m\u001b[0;34m.\u001b[0m\u001b[0mpython\u001b[0m\u001b[0;34m.\u001b[0m\u001b[0mkeras\u001b[0m\u001b[0;34m.\u001b[0m\u001b[0mlayers\u001b[0m \u001b[0;32mimport\u001b[0m \u001b[0mDense\u001b[0m\u001b[0;34m\u001b[0m\u001b[0;34m\u001b[0m\u001b[0m\n\u001b[1;32m     10\u001b[0m \u001b[0;32mfrom\u001b[0m \u001b[0mkeras\u001b[0m\u001b[0;34m.\u001b[0m\u001b[0moptimizers\u001b[0m \u001b[0;32mimport\u001b[0m \u001b[0mAdam\u001b[0m\u001b[0;34m\u001b[0m\u001b[0;34m\u001b[0m\u001b[0m\n",
      "\u001b[0;32m/usr/local/lib/python3.9/site-packages/keras/__init__.py\u001b[0m in \u001b[0;36m<module>\u001b[0;34m\u001b[0m\n\u001b[1;32m     19\u001b[0m \"\"\"\n\u001b[1;32m     20\u001b[0m \u001b[0;31m# pylint: disable=unused-import\u001b[0m\u001b[0;34m\u001b[0m\u001b[0;34m\u001b[0m\u001b[0;34m\u001b[0m\u001b[0m\n\u001b[0;32m---> 21\u001b[0;31m \u001b[0;32mfrom\u001b[0m \u001b[0mtensorflow\u001b[0m\u001b[0;34m.\u001b[0m\u001b[0mpython\u001b[0m \u001b[0;32mimport\u001b[0m \u001b[0mtf2\u001b[0m\u001b[0;34m\u001b[0m\u001b[0;34m\u001b[0m\u001b[0m\n\u001b[0m\u001b[1;32m     22\u001b[0m \u001b[0;32mfrom\u001b[0m \u001b[0mkeras\u001b[0m \u001b[0;32mimport\u001b[0m \u001b[0mdistribute\u001b[0m\u001b[0;34m\u001b[0m\u001b[0;34m\u001b[0m\u001b[0m\n\u001b[1;32m     23\u001b[0m \u001b[0;34m\u001b[0m\u001b[0m\n",
      "\u001b[0;32m/usr/local/lib/python3.9/site-packages/tensorflow/__init__.py\u001b[0m in \u001b[0;36m<module>\u001b[0;34m\u001b[0m\n\u001b[1;32m     39\u001b[0m \u001b[0;32mimport\u001b[0m \u001b[0msys\u001b[0m \u001b[0;32mas\u001b[0m \u001b[0m_sys\u001b[0m\u001b[0;34m\u001b[0m\u001b[0;34m\u001b[0m\u001b[0m\n\u001b[1;32m     40\u001b[0m \u001b[0;34m\u001b[0m\u001b[0m\n\u001b[0;32m---> 41\u001b[0;31m \u001b[0;32mfrom\u001b[0m \u001b[0mtensorflow\u001b[0m\u001b[0;34m.\u001b[0m\u001b[0mpython\u001b[0m\u001b[0;34m.\u001b[0m\u001b[0mtools\u001b[0m \u001b[0;32mimport\u001b[0m \u001b[0mmodule_util\u001b[0m \u001b[0;32mas\u001b[0m \u001b[0m_module_util\u001b[0m\u001b[0;34m\u001b[0m\u001b[0;34m\u001b[0m\u001b[0m\n\u001b[0m\u001b[1;32m     42\u001b[0m \u001b[0;32mfrom\u001b[0m \u001b[0mtensorflow\u001b[0m\u001b[0;34m.\u001b[0m\u001b[0mpython\u001b[0m\u001b[0;34m.\u001b[0m\u001b[0mutil\u001b[0m\u001b[0;34m.\u001b[0m\u001b[0mlazy_loader\u001b[0m \u001b[0;32mimport\u001b[0m \u001b[0mLazyLoader\u001b[0m \u001b[0;32mas\u001b[0m \u001b[0m_LazyLoader\u001b[0m\u001b[0;34m\u001b[0m\u001b[0;34m\u001b[0m\u001b[0m\n\u001b[1;32m     43\u001b[0m \u001b[0;34m\u001b[0m\u001b[0m\n",
      "\u001b[0;32m/usr/local/lib/python3.9/site-packages/tensorflow/python/__init__.py\u001b[0m in \u001b[0;36m<module>\u001b[0;34m\u001b[0m\n\u001b[1;32m     46\u001b[0m \u001b[0;32mfrom\u001b[0m \u001b[0mtensorflow\u001b[0m\u001b[0;34m.\u001b[0m\u001b[0mpython\u001b[0m \u001b[0;32mimport\u001b[0m \u001b[0mdata\u001b[0m\u001b[0;34m\u001b[0m\u001b[0;34m\u001b[0m\u001b[0m\n\u001b[1;32m     47\u001b[0m \u001b[0;32mfrom\u001b[0m \u001b[0mtensorflow\u001b[0m\u001b[0;34m.\u001b[0m\u001b[0mpython\u001b[0m \u001b[0;32mimport\u001b[0m \u001b[0mdistribute\u001b[0m\u001b[0;34m\u001b[0m\u001b[0;34m\u001b[0m\u001b[0m\n\u001b[0;32m---> 48\u001b[0;31m \u001b[0;32mfrom\u001b[0m \u001b[0mtensorflow\u001b[0m\u001b[0;34m.\u001b[0m\u001b[0mpython\u001b[0m \u001b[0;32mimport\u001b[0m \u001b[0mkeras\u001b[0m\u001b[0;34m\u001b[0m\u001b[0;34m\u001b[0m\u001b[0m\n\u001b[0m\u001b[1;32m     49\u001b[0m \u001b[0;32mfrom\u001b[0m \u001b[0mtensorflow\u001b[0m\u001b[0;34m.\u001b[0m\u001b[0mpython\u001b[0m\u001b[0;34m.\u001b[0m\u001b[0mfeature_column\u001b[0m \u001b[0;32mimport\u001b[0m \u001b[0mfeature_column_lib\u001b[0m \u001b[0;32mas\u001b[0m \u001b[0mfeature_column\u001b[0m\u001b[0;34m\u001b[0m\u001b[0;34m\u001b[0m\u001b[0m\n\u001b[1;32m     50\u001b[0m \u001b[0;32mfrom\u001b[0m \u001b[0mtensorflow\u001b[0m\u001b[0;34m.\u001b[0m\u001b[0mpython\u001b[0m\u001b[0;34m.\u001b[0m\u001b[0mlayers\u001b[0m \u001b[0;32mimport\u001b[0m \u001b[0mlayers\u001b[0m\u001b[0;34m\u001b[0m\u001b[0;34m\u001b[0m\u001b[0m\n",
      "\u001b[0;32m/usr/local/lib/python3.9/site-packages/tensorflow/python/keras/__init__.py\u001b[0m in \u001b[0;36m<module>\u001b[0;34m\u001b[0m\n\u001b[1;32m     20\u001b[0m \u001b[0;31m# pylint: disable=unused-import\u001b[0m\u001b[0;34m\u001b[0m\u001b[0;34m\u001b[0m\u001b[0;34m\u001b[0m\u001b[0m\n\u001b[1;32m     21\u001b[0m \u001b[0;32mfrom\u001b[0m \u001b[0mtensorflow\u001b[0m\u001b[0;34m.\u001b[0m\u001b[0mpython\u001b[0m \u001b[0;32mimport\u001b[0m \u001b[0mtf2\u001b[0m\u001b[0;34m\u001b[0m\u001b[0;34m\u001b[0m\u001b[0m\n\u001b[0;32m---> 22\u001b[0;31m \u001b[0;32mfrom\u001b[0m \u001b[0mtensorflow\u001b[0m\u001b[0;34m.\u001b[0m\u001b[0mpython\u001b[0m\u001b[0;34m.\u001b[0m\u001b[0mkeras\u001b[0m \u001b[0;32mimport\u001b[0m \u001b[0mdistribute\u001b[0m\u001b[0;34m\u001b[0m\u001b[0;34m\u001b[0m\u001b[0m\n\u001b[0m\u001b[1;32m     23\u001b[0m \u001b[0;34m\u001b[0m\u001b[0m\n\u001b[1;32m     24\u001b[0m \u001b[0;31m# See b/110718070#comment18 for more details about this import.\u001b[0m\u001b[0;34m\u001b[0m\u001b[0;34m\u001b[0m\u001b[0;34m\u001b[0m\u001b[0m\n",
      "\u001b[0;32m/usr/local/lib/python3.9/site-packages/tensorflow/python/keras/distribute/__init__.py\u001b[0m in \u001b[0;36m<module>\u001b[0;34m\u001b[0m\n\u001b[1;32m     16\u001b[0m \u001b[0;34m\u001b[0m\u001b[0m\n\u001b[1;32m     17\u001b[0m \u001b[0;31m# pylint: disable=unused-import\u001b[0m\u001b[0;34m\u001b[0m\u001b[0;34m\u001b[0m\u001b[0;34m\u001b[0m\u001b[0m\n\u001b[0;32m---> 18\u001b[0;31m \u001b[0;32mfrom\u001b[0m \u001b[0mtensorflow\u001b[0m\u001b[0;34m.\u001b[0m\u001b[0mpython\u001b[0m\u001b[0;34m.\u001b[0m\u001b[0mkeras\u001b[0m\u001b[0;34m.\u001b[0m\u001b[0mdistribute\u001b[0m \u001b[0;32mimport\u001b[0m \u001b[0msidecar_evaluator\u001b[0m\u001b[0;34m\u001b[0m\u001b[0;34m\u001b[0m\u001b[0m\n\u001b[0m",
      "\u001b[0;32m/usr/local/lib/python3.9/site-packages/tensorflow/python/keras/distribute/sidecar_evaluator.py\u001b[0m in \u001b[0;36m<module>\u001b[0;34m\u001b[0m\n\u001b[1;32m     24\u001b[0m \u001b[0;32mfrom\u001b[0m \u001b[0mtensorflow\u001b[0m\u001b[0;34m.\u001b[0m\u001b[0mpython\u001b[0m\u001b[0;34m.\u001b[0m\u001b[0mplatform\u001b[0m \u001b[0;32mimport\u001b[0m \u001b[0mtf_logging\u001b[0m \u001b[0;32mas\u001b[0m \u001b[0mlogging\u001b[0m\u001b[0;34m\u001b[0m\u001b[0;34m\u001b[0m\u001b[0m\n\u001b[1;32m     25\u001b[0m \u001b[0;32mfrom\u001b[0m \u001b[0mtensorflow\u001b[0m\u001b[0;34m.\u001b[0m\u001b[0mpython\u001b[0m\u001b[0;34m.\u001b[0m\u001b[0mtraining\u001b[0m \u001b[0;32mimport\u001b[0m \u001b[0mcheckpoint_utils\u001b[0m\u001b[0;34m\u001b[0m\u001b[0;34m\u001b[0m\u001b[0m\n\u001b[0;32m---> 26\u001b[0;31m \u001b[0;32mfrom\u001b[0m \u001b[0mtensorflow\u001b[0m\u001b[0;34m.\u001b[0m\u001b[0mpython\u001b[0m\u001b[0;34m.\u001b[0m\u001b[0mtraining\u001b[0m\u001b[0;34m.\u001b[0m\u001b[0mtracking\u001b[0m \u001b[0;32mimport\u001b[0m \u001b[0mutil\u001b[0m \u001b[0;32mas\u001b[0m \u001b[0mtracking_util\u001b[0m\u001b[0;34m\u001b[0m\u001b[0;34m\u001b[0m\u001b[0m\n\u001b[0m\u001b[1;32m     27\u001b[0m \u001b[0;34m\u001b[0m\u001b[0m\n\u001b[1;32m     28\u001b[0m \u001b[0m_PRINT_EVAL_STEP_EVERY_SEC\u001b[0m \u001b[0;34m=\u001b[0m \u001b[0;36m60.0\u001b[0m\u001b[0;34m\u001b[0m\u001b[0;34m\u001b[0m\u001b[0m\n",
      "\u001b[0;32m/usr/local/lib/python3.9/site-packages/tensorflow/python/training/tracking/util.py\u001b[0m in \u001b[0;36m<module>\u001b[0;34m\u001b[0m\n\u001b[1;32m     44\u001b[0m \u001b[0;32mfrom\u001b[0m \u001b[0mtensorflow\u001b[0m\u001b[0;34m.\u001b[0m\u001b[0mpython\u001b[0m\u001b[0;34m.\u001b[0m\u001b[0mplatform\u001b[0m \u001b[0;32mimport\u001b[0m \u001b[0mgfile\u001b[0m\u001b[0;34m\u001b[0m\u001b[0;34m\u001b[0m\u001b[0m\n\u001b[1;32m     45\u001b[0m \u001b[0;32mfrom\u001b[0m \u001b[0mtensorflow\u001b[0m\u001b[0;34m.\u001b[0m\u001b[0mpython\u001b[0m\u001b[0;34m.\u001b[0m\u001b[0mplatform\u001b[0m \u001b[0;32mimport\u001b[0m \u001b[0mtf_logging\u001b[0m \u001b[0;32mas\u001b[0m \u001b[0mlogging\u001b[0m\u001b[0;34m\u001b[0m\u001b[0;34m\u001b[0m\u001b[0m\n\u001b[0;32m---> 46\u001b[0;31m \u001b[0;32mfrom\u001b[0m \u001b[0mtensorflow\u001b[0m\u001b[0;34m.\u001b[0m\u001b[0mpython\u001b[0m\u001b[0;34m.\u001b[0m\u001b[0msaved_model\u001b[0m \u001b[0;32mimport\u001b[0m \u001b[0mutils_impl\u001b[0m\u001b[0;34m\u001b[0m\u001b[0;34m\u001b[0m\u001b[0m\n\u001b[0m\u001b[1;32m     47\u001b[0m \u001b[0;32mfrom\u001b[0m \u001b[0mtensorflow\u001b[0m\u001b[0;34m.\u001b[0m\u001b[0mpython\u001b[0m\u001b[0;34m.\u001b[0m\u001b[0mtraining\u001b[0m \u001b[0;32mimport\u001b[0m \u001b[0mcheckpoint_management\u001b[0m\u001b[0;34m\u001b[0m\u001b[0;34m\u001b[0m\u001b[0m\n\u001b[1;32m     48\u001b[0m \u001b[0;32mfrom\u001b[0m \u001b[0mtensorflow\u001b[0m\u001b[0;34m.\u001b[0m\u001b[0mpython\u001b[0m\u001b[0;34m.\u001b[0m\u001b[0mtraining\u001b[0m \u001b[0;32mimport\u001b[0m \u001b[0mpy_checkpoint_reader\u001b[0m\u001b[0;34m\u001b[0m\u001b[0;34m\u001b[0m\u001b[0m\n",
      "\u001b[0;32m/usr/local/lib/python3.9/site-packages/tensorflow/python/saved_model/utils_impl.py\u001b[0m in \u001b[0;36m<module>\u001b[0;34m\u001b[0m\n\u001b[1;32m     31\u001b[0m \u001b[0;32mfrom\u001b[0m \u001b[0mtensorflow\u001b[0m\u001b[0;34m.\u001b[0m\u001b[0mpython\u001b[0m\u001b[0;34m.\u001b[0m\u001b[0mframework\u001b[0m \u001b[0;32mimport\u001b[0m \u001b[0mtensor_shape\u001b[0m\u001b[0;34m\u001b[0m\u001b[0;34m\u001b[0m\u001b[0m\n\u001b[1;32m     32\u001b[0m \u001b[0;32mfrom\u001b[0m \u001b[0mtensorflow\u001b[0m\u001b[0;34m.\u001b[0m\u001b[0mpython\u001b[0m\u001b[0;34m.\u001b[0m\u001b[0mlib\u001b[0m\u001b[0;34m.\u001b[0m\u001b[0mio\u001b[0m \u001b[0;32mimport\u001b[0m \u001b[0mfile_io\u001b[0m\u001b[0;34m\u001b[0m\u001b[0;34m\u001b[0m\u001b[0m\n\u001b[0;32m---> 33\u001b[0;31m \u001b[0;32mfrom\u001b[0m \u001b[0mtensorflow\u001b[0m\u001b[0;34m.\u001b[0m\u001b[0mpython\u001b[0m\u001b[0;34m.\u001b[0m\u001b[0msaved_model\u001b[0m \u001b[0;32mimport\u001b[0m \u001b[0mconstants\u001b[0m\u001b[0;34m\u001b[0m\u001b[0;34m\u001b[0m\u001b[0m\n\u001b[0m\u001b[1;32m     34\u001b[0m \u001b[0;32mfrom\u001b[0m \u001b[0mtensorflow\u001b[0m\u001b[0;34m.\u001b[0m\u001b[0mpython\u001b[0m\u001b[0;34m.\u001b[0m\u001b[0msaved_model\u001b[0m \u001b[0;32mimport\u001b[0m \u001b[0mnested_structure_coder\u001b[0m\u001b[0;34m\u001b[0m\u001b[0;34m\u001b[0m\u001b[0m\n\u001b[1;32m     35\u001b[0m \u001b[0;32mfrom\u001b[0m \u001b[0mtensorflow\u001b[0m\u001b[0;34m.\u001b[0m\u001b[0mpython\u001b[0m\u001b[0;34m.\u001b[0m\u001b[0mutil\u001b[0m \u001b[0;32mimport\u001b[0m \u001b[0mcompat\u001b[0m\u001b[0;34m\u001b[0m\u001b[0;34m\u001b[0m\u001b[0m\n",
      "\u001b[0;32m/usr/local/Cellar/python@3.9/3.9.5/Frameworks/Python.framework/Versions/3.9/lib/python3.9/importlib/_bootstrap.py\u001b[0m in \u001b[0;36m_find_and_load\u001b[0;34m(name, import_)\u001b[0m\n",
      "\u001b[0;32m/usr/local/Cellar/python@3.9/3.9.5/Frameworks/Python.framework/Versions/3.9/lib/python3.9/importlib/_bootstrap.py\u001b[0m in \u001b[0;36m_find_and_load_unlocked\u001b[0;34m(name, import_)\u001b[0m\n",
      "\u001b[0;32m/usr/local/Cellar/python@3.9/3.9.5/Frameworks/Python.framework/Versions/3.9/lib/python3.9/importlib/_bootstrap.py\u001b[0m in \u001b[0;36m_load_unlocked\u001b[0;34m(spec)\u001b[0m\n",
      "\u001b[0;32m/usr/local/Cellar/python@3.9/3.9.5/Frameworks/Python.framework/Versions/3.9/lib/python3.9/importlib/_bootstrap_external.py\u001b[0m in \u001b[0;36mexec_module\u001b[0;34m(self, module)\u001b[0m\n",
      "\u001b[0;32m/usr/local/Cellar/python@3.9/3.9.5/Frameworks/Python.framework/Versions/3.9/lib/python3.9/importlib/_bootstrap_external.py\u001b[0m in \u001b[0;36mget_code\u001b[0;34m(self, fullname)\u001b[0m\n",
      "\u001b[0;32m/usr/local/Cellar/python@3.9/3.9.5/Frameworks/Python.framework/Versions/3.9/lib/python3.9/importlib/_bootstrap_external.py\u001b[0m in \u001b[0;36mget_data\u001b[0;34m(self, path)\u001b[0m\n",
      "\u001b[0;31mKeyboardInterrupt\u001b[0m: "
     ]
    }
   ],
   "source": [
    "import pandas as pd\n",
    "from sklearn.preprocessing import  MinMaxScaler\n",
    "from pandas import DataFrame\n",
    "from scipy.special import legendre\n",
    "import numpy as np\n",
    "from sklearn.model_selection import StratifiedKFold\n",
    "import matplotlib.pyplot as plt\n",
    "import keras\n",
    "from tensorflow.python.keras.layers import Dense\n",
    "from keras.optimizers import Adam\n",
    "from tensorflow.python.keras import Sequential\n",
    "from sklearn.metrics import accuracy_score, f1_score\n",
    "from sklearn.metrics import classification_report\n",
    "import random\n",
    "import timeit\n",
    "from sklearn.feature_selection import mutual_info_classif\n",
    "from sklearn.feature_selection import SelectKBest"
   ]
  },
  {
   "cell_type": "markdown",
   "metadata": {
    "id": "7vNrreDQZubc"
   },
   "source": [
    "## 1.2. Import Dataset"
   ]
  },
  {
   "cell_type": "code",
   "execution_count": null,
   "metadata": {
    "id": "GMRraUUOzPk3"
   },
   "outputs": [],
   "source": [
    "# data colon\n",
    "url = \"https://raw.githubusercontent.com/jamessaldo/final-task/master/colonTumor.data\"\n",
    "data_colon = pd.read_csv(url, header=None)"
   ]
  },
  {
   "cell_type": "markdown",
   "metadata": {
    "id": "b4cB_13-TxQo"
   },
   "source": [
    "## 1.3. Check Missing Value"
   ]
  },
  {
   "cell_type": "code",
   "execution_count": null,
   "metadata": {
    "colab": {
     "base_uri": "https://localhost:8080/"
    },
    "id": "R2aU78BwTwlz",
    "outputId": "f567de29-4293-466c-da79-c9ecd92bb5d4"
   },
   "outputs": [],
   "source": [
    "print('Total Missing Value pada Data colon Tumor:',data_colon.isnull().sum().sum())"
   ]
  },
  {
   "cell_type": "markdown",
   "metadata": {
    "id": "sU9gQQqhqSO7"
   },
   "source": [
    "## 1.4. Normalization"
   ]
  },
  {
   "cell_type": "code",
   "execution_count": null,
   "metadata": {
    "id": "JedwSdEXqPlw"
   },
   "outputs": [],
   "source": [
    "# Melakukan normalisasi\n",
    "# data colon\n",
    "data_new_colon = data_colon.drop([2000],axis=1)\n",
    "scaler = MinMaxScaler()\n",
    "data_new_colon = scaler.fit_transform(data_new_colon)\n",
    "data_new_colon = DataFrame(data_new_colon)\n",
    "data_new_colon['label'] = list(data_colon[2000])\n",
    "dic = {'negative':1,'positive':0}\n",
    "data_new_colon.replace(dic,inplace=True)"
   ]
  },
  {
   "cell_type": "markdown",
   "metadata": {
    "id": "fjCSdG9vz4pE"
   },
   "source": [
    "# 2. Define Reusable Function"
   ]
  },
  {
   "cell_type": "markdown",
   "metadata": {
    "id": "7OaQhLtNUEEn"
   },
   "source": [
    "## FLNN Classifier"
   ]
  },
  {
   "cell_type": "code",
   "execution_count": null,
   "metadata": {
    "id": "Yj0yC_4o0xJn"
   },
   "outputs": [],
   "source": [
    "def FLNN_Classifier(data_train, data_test, cancer_name, orde):\n",
    "    start = timeit.default_timer()\n",
    "    \n",
    "    x_data_train = data_train.drop(['label'],axis=1)\n",
    "    y_data_train = data_train['label']\n",
    "    x_data_test = data_test.drop(['label'],axis=1)\n",
    "    y_data_test = data_test['label']\n",
    "    \n",
    "    df_train = pd.DataFrame()\n",
    "    df_test = pd.DataFrame()\n",
    "\n",
    "    for x in range(1, orde+1):\n",
    "        pn = legendre(x)\n",
    "        y_orde = pn(x_data_train)\n",
    "        df_train = pd.concat([df_train, y_orde], axis=1)\n",
    "        \n",
    "        pn = legendre(x)\n",
    "        y_orde = pn(x_data_test)\n",
    "        df_test = pd.concat([df_test, y_orde], axis=1)\n",
    "\n",
    "    df_train.columns = [\"Attribut\"+str(i) for i in range(len(df_train.columns))]\n",
    "    df_train['label'] = y_data_train.reset_index().label\n",
    "    X_train = df_train.iloc[:, 0:len(df_train.columns)-1].values\n",
    "    y_train = df_train.iloc[:, len(df_train.columns)-1].values\n",
    "    \n",
    "    df_test.columns = [\"Attribut\"+str(i) for i in range(len(df_test.columns))]\n",
    "    df_test['label'] = y_data_test.reset_index().label\n",
    "    X_test = df_test.iloc[:, 0:len(df_test.columns)-1].values\n",
    "    y_test = df_test.iloc[:, len(df_test.columns)-1].values\n",
    "\n",
    "    # Melakukan proses klasifikasi FLNN\n",
    "    # Inisialisasi FLNN\n",
    "    Model = Sequential()\n",
    "    # Menambah input layer dan hidden layer pertama\n",
    "    Model.add(Dense(units = len(df_train.columns)-1, kernel_initializer = 'uniform', input_dim = len(df_train.columns)-1))\n",
    "    # Menambah output layer\n",
    "    Model.add(Dense(units = 1, kernel_initializer = 'uniform', activation = 'sigmoid'))\n",
    "    # Menjalankan ANN\n",
    "    Model.compile(optimizer = Adam(learning_rate=0.001), loss = 'mean_squared_error', metrics = ['accuracy'])\n",
    "    # Fitting ANN ke training set\n",
    "    history = Model.fit(X_train, y_train, batch_size = 50, epochs = 100, validation_split = 0.2, verbose=False)\n",
    "\n",
    "    #Memprediksi hasil test set\n",
    "    y_pred = Model(X_test)\n",
    "    y_pred =(y_pred >= 0.5)\n",
    "\n",
    "    #print(\"X_Train :\", X_train)\n",
    "    print(\"Y_Train :\", y_train)\n",
    "\n",
    "    #print(\"X_Test :\", X_test)\n",
    "    print(\"Y_Test :\", y_test)\n",
    "\n",
    "    akurasi = accuracy_score(y_test,y_pred)\n",
    "    F1 = f1_score(y_test, y_pred, average='macro')\n",
    "\n",
    "    print(\"Akurasi : \", akurasi)\n",
    "    print(\"F1_Score : \", F1)\n",
    "    print(classification_report(y_test,y_pred))\n",
    "\n",
    "    # Membuat confusion matrix\n",
    "    from sklearn.metrics import confusion_matrix \n",
    "    from mlxtend.plotting import plot_confusion_matrix\n",
    "    cm = confusion_matrix(y_test, y_pred)\n",
    "    fig, ax = plot_confusion_matrix(conf_mat = cm, figsize=(5,5))\n",
    "    plt.show()\n",
    "\n",
    "    stop = timeit.default_timer()\n",
    "    print('Running Time: ', stop - start) \n",
    "    return akurasi, F1, stop-start"
   ]
  },
  {
   "cell_type": "markdown",
   "metadata": {
    "id": "kfAPajOb0D5_"
   },
   "source": [
    "## Genetic Algorithm"
   ]
  },
  {
   "cell_type": "code",
   "execution_count": null,
   "metadata": {
    "id": "rwrhRXpb0C5I"
   },
   "outputs": [],
   "source": [
    "# define parameters\n",
    "mutationRate = 0.01\n",
    "crossoverRate = 0.8\n",
    "populationSize = 10\n",
    "maxGen = 5\n",
    "\n",
    "def GenerateGene(lengthOfGen):\n",
    "  genes = [] # menyimpan index feature\n",
    "  for j in range(lengthOfGen):\n",
    "    genes.append(random.randint(0,1))\n",
    "  return genes\n",
    "\n",
    "def GeneratePopulation(lengthOfGen):\n",
    "  population = []\n",
    "  for i in range(populationSize):\n",
    "    individu = GenerateGene(lengthOfGen)\n",
    "    population.append(individu)\n",
    "  return population\n",
    "\n",
    "def CrossOver(parent_1, parent_2, rate, lengthOfGen): #Random Point Method\n",
    "  new_pop = [] \n",
    "  for i in range((populationSize - 2) // 2):\n",
    "    if random.random() < rate:\n",
    "      CP = random.randint(0,lengthOfGen) #CrossPoint\n",
    "      child = parent_1[0:CP] + parent_2[CP:len(parent_2)]\n",
    "      new_pop.append(child)\n",
    "      child = parent_2[0:CP] + parent_1[CP:len(parent_1)]\n",
    "      new_pop.append(child)\n",
    "    else:\n",
    "      new_pop.append(parent_1)\n",
    "      new_pop.append(parent_2)\n",
    "  return new_pop\n",
    "\n",
    "def Mutation(mutant, rate, lengthOfGen):\n",
    "  for i in range(len(mutant)):\n",
    "    # memutasi tiap gen yang memiliki kemungkinan < rate(0.1)\n",
    "    for j in range(lengthOfGen):\n",
    "      if random.random() <= rate:\n",
    "        mutant[i][j] = 1 - mutant[i][j]\n",
    "  return mutant\n",
    "\n",
    "def ZeroGene(indv): #pengecekan apakah gen isinya kosong atau tidak\n",
    "  total = 0\n",
    "  for i in range(len(indv)):\n",
    "    if indv[i] == 0:\n",
    "      total += 1\n",
    "  if len(indv) == total:\n",
    "    return True\n",
    "  else:\n",
    "    return False\n",
    "\n",
    "def Classification(indv, data_train, data_test, orde): #using Entropy as fitness\n",
    "  datasetGA_train = pd.DataFrame()\n",
    "  datasetGA_test = pd.DataFrame()\n",
    "  idxDatasetGA = 0\n",
    "  for i in range(len(data_train.columns)-1):\n",
    "    if indv[i] == 1:\n",
    "      datasetGA_train[idxDatasetGA] = data_train[i]\n",
    "      datasetGA_test[idxDatasetGA] = data_test[i]\n",
    "      idxDatasetGA += 1\n",
    "  datasetGA_train['label'] = data_train['label']\n",
    "  datasetGA_test['label'] = data_test['label']\n",
    "  Acc_score, F1_score, rt = FLNN_Classifier(datasetGA_train, datasetGA_test, \"colon cancer\", orde)\n",
    "  totalFeatures = idxDatasetGA+1\n",
    "  return Acc_score, F1_score, totalFeatures"
   ]
  },
  {
   "cell_type": "code",
   "execution_count": null,
   "metadata": {
    "id": "gX9HQLsa6hfJ"
   },
   "outputs": [],
   "source": [
    "def GeneticAlgorithm(data_train, data_test, orde):\n",
    "  start = timeit.default_timer()\n",
    "  # Initial Population\n",
    "  lengthOfGen = len(data_train.columns) - 1 # panjang gene = panjang fitur tanpa label\n",
    "\n",
    "  # fintess evaluation\n",
    "  bestF1 = 0\n",
    "  bestAcc = 0\n",
    "  bestNFeature = len(data_train.columns) - 1\n",
    "  best_gene = []\n",
    "  best_gene_2 = []\n",
    "  population = GeneratePopulation(lengthOfGen) # Generate 1st Generation\n",
    "  generation = 0 #max generation = 2**len(feature)\n",
    "\n",
    "  while (generation < maxGen and (bestF1*100) < 90):\n",
    "    print('Generation :',generation)\n",
    "    fitness = pd.DataFrame()\n",
    "    acc = []\n",
    "    f1score = []\n",
    "    nFeature = []\n",
    "    gene = []\n",
    "    i = 0\n",
    "    while (i < len(population)):\n",
    "      if ZeroGene(population[i]) == False:\n",
    "        print('gene :', population[i])\n",
    "        accuracy, f1, totalFeatures = Classification(population[i], data_train, data_test, orde) # Count Fitness Value\n",
    "        acc.append(accuracy)\n",
    "        f1score.append(f1)\n",
    "        nFeature.append(totalFeatures)\n",
    "        gene.append(population[i])\n",
    "      i += 1\n",
    "\n",
    "    fitness['gene'] = gene\n",
    "    fitness['feature'] = nFeature\n",
    "    fitness['f1_score'] = f1score\n",
    "    fitness['accuracy'] = acc\n",
    "\n",
    "    fitness = fitness.sort_values(['f1_score'],ascending=False)\n",
    "    \n",
    "    last_bestF1 = bestF1\n",
    "    last_bestAcc = bestAcc\n",
    "    last_bestNFeature = bestNFeature\n",
    "    last_best_gene = best_gene\n",
    "    last_best_gene_2 = best_gene_2\n",
    "    \n",
    "    if last_bestF1 > fitness['f1_score'][fitness.index[0]]:\n",
    "        bestF1 = last_bestF1\n",
    "        bestAcc = last_bestAcc\n",
    "        bestNFeature = last_bestNFeature\n",
    "        # select parent\n",
    "        best_gene = last_best_gene\n",
    "        best_gene_2 = last_best_gene_2\n",
    "    else:\n",
    "        bestF1 = fitness['f1_score'][fitness.index[0]]\n",
    "        bestAcc = fitness['accuracy'][fitness.index[0]]\n",
    "        bestNFeature = fitness['feature'][fitness.index[0]]\n",
    "        # select parent\n",
    "        best_gene = fitness['gene'][fitness.index[0]].copy()\n",
    "        best_gene_2 = fitness['gene'][fitness.index[1]].copy()\n",
    "\n",
    "    #Crossover methods: Fixed Point, \"Random Point\", Alternate Point\n",
    "    population = CrossOver(best_gene.copy(), best_gene_2.copy(), crossoverRate, lengthOfGen)\n",
    "\n",
    "    # Mutation\n",
    "    population = Mutation(population, mutationRate, lengthOfGen)\n",
    "\n",
    "    # Masukkan best child tadi\n",
    "    population.append(best_gene)\n",
    "    population.append(best_gene_2)\n",
    "\n",
    "    # Print Result\n",
    "    print('===============================================================================================================================================================================================================')\n",
    "    print('gen terbaik :', best_gene)\n",
    "    print('F-1 Score terbaik :',bestF1,' || Akurasi terbaik :',bestAcc,' || jumlah fitur :',bestNFeature)\n",
    "    print()\n",
    "\n",
    "    # New Generation\n",
    "    generation += 1\n",
    "  listDrop = []\n",
    "  for i in range(len(data_train.columns)-1):\n",
    "    if best_gene[i] == 0:\n",
    "      listDrop.append(data_train.columns[i])\n",
    "  dataset_GA_train = data_train.drop(listDrop, axis = 1)\n",
    "  dataset_GA_test = data_test.drop(listDrop, axis = 1)\n",
    "  stop = timeit.default_timer()\n",
    "  print('Running Time: ', stop - start)\n",
    "  return bestAcc, bestF1, bestNFeature, stop-start"
   ]
  },
  {
   "cell_type": "markdown",
   "metadata": {
    "id": "G3lRPMojLv2j"
   },
   "source": [
    "# 3. Feature Selection with IG"
   ]
  },
  {
   "cell_type": "markdown",
   "metadata": {
    "id": "QfZbd-1OMFrz"
   },
   "source": [
    "## colon"
   ]
  },
  {
   "cell_type": "code",
   "execution_count": null,
   "metadata": {
    "colab": {
     "base_uri": "https://localhost:8080/",
     "height": 461
    },
    "id": "Uo8PZ6AfLzfm",
    "outputId": "1d2edd53-19f2-4722-e32a-5d97dfbcfcad"
   },
   "outputs": [],
   "source": [
    "# Feature Selection using Mutual Information\n",
    "def InformationGain(data_train, data_test):\n",
    "    start = timeit.default_timer()\n",
    "    data_X_train = data_train.drop(['label'],axis=1)\n",
    "    data_Y_train = data_train['label']\n",
    "    \n",
    "    data_X_test = data_test.drop(['label'],axis=1)\n",
    "    data_Y_test = data_test['label']\n",
    "\n",
    "    sel_k_best = SelectKBest(mutual_info_classif, k=100)\n",
    "    sel_k_best.fit(data_X_train, data_Y_train)\n",
    "    data_train_X_new = sel_k_best.transform(data_X_train)\n",
    "    data_test_X_new = sel_k_best.transform(data_X_test)\n",
    "\n",
    "    colon_IG_train = pd.DataFrame(data_train_X_new)\n",
    "    colon_IG_train['label'] = data_Y_train\n",
    "    colon_IG_test = pd.DataFrame(data_test_X_new)\n",
    "    colon_IG_test['label'] = data_Y_test\n",
    "    \n",
    "    print(\"train: \",colon_IG_train.shape)\n",
    "    print(\"test: \",colon_IG_test.shape)\n",
    "    stop = timeit.default_timer()\n",
    "    print(\"Running Time: \", stop-start)\n",
    "    return colon_IG_train, colon_IG_test, stop-start"
   ]
  },
  {
   "cell_type": "markdown",
   "metadata": {
    "id": "PQoKkj8-OIPX"
   },
   "source": [
    "# 4. Classification"
   ]
  },
  {
   "cell_type": "code",
   "execution_count": null,
   "metadata": {
    "scrolled": true,
    "tags": []
   },
   "outputs": [],
   "source": [
    "start = timeit.default_timer()\n",
    "akurasi_IG_2,f1_IG_2,rt_IG_2 = [],[],[]\n",
    "akurasi_IG_3,f1_IG_3,rt_IG_3 = [],[],[]\n",
    "akurasi_IG_4,f1_IG_4,rt_IG_4 = [],[],[]\n",
    "\n",
    "akurasi_IG_GA_2,f1_IG_GA_2,fitur_IG_GA_2,rt_IG_GA_2 = [],[],[],[]\n",
    "akurasi_IG_GA_3,f1_IG_GA_3,fitur_IG_GA_3,rt_IG_GA_3 = [],[],[],[]\n",
    "akurasi_IG_GA_4,f1_IG_GA_4,fitur_IG_GA_4,rt_IG_GA_4 = [],[],[],[]\n",
    "\n",
    "#Melakukan proses K-Fold\n",
    "kf = StratifiedKFold(n_splits=5, shuffle=True, random_state=10)\n",
    "kf.get_n_splits(data_new_colon)\n",
    "X = data_new_colon.copy().iloc[:, 0:len(data_new_colon.columns)-1].values\n",
    "Y = data_new_colon.copy().iloc[:, len(data_new_colon.columns)-1].values\n",
    "for train_index, test_index in kf.split(X,Y):\n",
    "    print(\"Train : \", train_index, \"Test : \", test_index)\n",
    "    data_train, data_test, y_train, y_test = pd.DataFrame(X[train_index]), pd.DataFrame(X[test_index]), Y[train_index], Y[test_index]\n",
    "    data_train['label'] = y_train\n",
    "    data_test['label'] = y_test\n",
    "    data_train, data_test, rt_ig = InformationGain(data_train.copy(), data_test.copy())\n",
    "    print(\"colon + IG Orde 2\")\n",
    "    acc,f1,rt = FLNN_Classifier(data_train.copy(), data_test.copy(), \"colon cancer\", 2)\n",
    "    akurasi_IG_2.append(acc)\n",
    "    f1_IG_2.append(f1)\n",
    "    rt_IG_2.append(rt+rt_ig)\n",
    "    print(\"colon + IG Orde 3\")\n",
    "    acc,f1,rt = FLNN_Classifier(data_train.copy(), data_test.copy(), \"colon cancer\", 3)\n",
    "    akurasi_IG_3.append(acc)\n",
    "    f1_IG_3.append(f1)\n",
    "    rt_IG_3.append(rt+rt_ig)\n",
    "    print(\"colon + IG Orde 4\")\n",
    "    acc,f1,rt = FLNN_Classifier(data_train.copy(), data_test.copy(), \"colon cancer\", 4)\n",
    "    akurasi_IG_4.append(acc)\n",
    "    f1_IG_4.append(f1)\n",
    "    rt_IG_4.append(rt+rt_ig)\n",
    "    \n",
    "    print(\"colon + IG + GA Orde 2\")\n",
    "    acc,f1,fitur,rt = GeneticAlgorithm(data_train.copy(), data_test.copy(), 2)\n",
    "    akurasi_IG_GA_2.append(acc)\n",
    "    f1_IG_GA_2.append(f1)\n",
    "    fitur_IG_GA_2.append(fitur)\n",
    "    rt_IG_GA_2.append(rt+rt_ig)\n",
    "    print(\"colon + IG + GA Orde 3\")\n",
    "    acc,f1,fitur,rt = GeneticAlgorithm(data_train.copy(), data_test.copy(), 3)\n",
    "    akurasi_IG_GA_3.append(acc)\n",
    "    f1_IG_GA_3.append(f1)\n",
    "    fitur_IG_GA_3.append(fitur)\n",
    "    rt_IG_GA_3.append(rt+rt_ig)\n",
    "    print(\"colon + IG + GA Orde 4\")\n",
    "    acc,f1,fitur,rt = GeneticAlgorithm(data_train.copy(), data_test.copy(), 4)\n",
    "    akurasi_IG_GA_4.append(acc)\n",
    "    f1_IG_GA_4.append(f1)\n",
    "    fitur_IG_GA_4.append(fitur)\n",
    "    rt_IG_GA_4.append(rt+rt_ig)\n",
    "    \n",
    "akurasi_IG_2,f1_IG_2,rt_IG_2 = np.array(akurasi_IG_2),np.array(f1_IG_2),np.array(rt_IG_2)\n",
    "akurasi_IG_3,f1_IG_3,rt_IG_3 = np.array(akurasi_IG_3),np.array(f1_IG_3),np.array(rt_IG_3)\n",
    "akurasi_IG_4,f1_IG_4,rt_IG_4 = np.array(akurasi_IG_4),np.array(f1_IG_4),np.array(rt_IG_4)\n",
    "\n",
    "akurasi_IG_GA_2,f1_IG_GA_2,fitur_IG_GA_2,rt_IG_GA_2 = np.array(akurasi_IG_GA_2),np.array(f1_IG_GA_2),np.array(fitur_IG_GA_2),np.array(rt_IG_GA_2)\n",
    "akurasi_IG_GA_3,f1_IG_GA_3,fitur_IG_GA_3,rt_IG_GA_3 = np.array(akurasi_IG_GA_3),np.array(f1_IG_GA_3),np.array(fitur_IG_GA_3),np.array(rt_IG_GA_3)\n",
    "akurasi_IG_GA_4,f1_IG_GA_4,fitur_IG_GA_4,rt_IG_GA_4 = np.array(akurasi_IG_GA_4),np.array(f1_IG_GA_4),np.array(fitur_IG_GA_4),np.array(rt_IG_GA_4)\n",
    "\n",
    "#Print Result\n",
    "print('===============================================================================================================================================================================================================')\n",
    "print('Avg accuracy colon cancer + IG orde 2 : ', akurasi_IG_2.mean())\n",
    "print('Avg F1 score colon cancer + IG orde 2 : ', f1_IG_2.mean())\n",
    "print('Avg running time colon cancer + IG orde 2 : ', rt_IG_2.mean())\n",
    "print('Avg accuracy colon cancer + IG orde 3 : ', akurasi_IG_3.mean())\n",
    "print('Avg F1 score colon cancer + IG orde 3 : ', f1_IG_3.mean())\n",
    "print('Avg running time colon cancer + IG orde 3 : ', rt_IG_3.mean())\n",
    "print('Avg accuracy colon cancer + IG orde 4 : ', akurasi_IG_4.mean())\n",
    "print('Avg F1 score colon cancer + IG orde 4 : ', f1_IG_4.mean())\n",
    "print('Avg running time colon cancer + IG orde 4 : ', rt_IG_4.mean())\n",
    "print('===============================================================================================================================================================================================================')\n",
    "print('Avg accuracy colon cancer + IG + GA orde 2 : ', akurasi_IG_GA_2.mean())\n",
    "print('Avg F1 score colon cancer + IG + GA orde 2 : ', f1_IG_GA_2.mean())\n",
    "print('Avg Features colon cancer + IG + GA orde 2 : ', fitur_IG_GA_2.mean())\n",
    "print('Avg running time colon cancer + IG + GA orde 2 : ', rt_IG_GA_2.mean())\n",
    "print('Avg accuracy colon cancer + IG + GA orde 3 : ', akurasi_IG_GA_3.mean())\n",
    "print('Avg F1 score colon cancer + IG + GA orde 3 : ', f1_IG_GA_3.mean())\n",
    "print('Avg Features colon cancer + IG + GA orde 3 : ', fitur_IG_GA_3.mean())\n",
    "print('Avg running time colon cancer + IG + GA orde 3 : ', rt_IG_GA_3.mean())\n",
    "print('Avg accuracy colon cancer + IG + GA orde 4 : ', akurasi_IG_GA_4.mean())\n",
    "print('Avg F1 score colon cancer + IG + GA orde 4 : ', f1_IG_GA_4.mean())\n",
    "print('Avg Features colon cancer + IG + GA orde 4 : ', fitur_IG_GA_4.mean())\n",
    "print('Avg running time colon cancer + IG + GA orde 4 : ', rt_IG_GA_4.mean())\n",
    "print()\n",
    "stop = timeit.default_timer()\n",
    "print(\"Overall Running Time : \", stop-start)"
   ]
  }
 ],
 "metadata": {
  "accelerator": "TPU",
  "colab": {
   "collapsed_sections": [],
   "name": "Copy of Colon - Final Task",
   "provenance": []
  },
  "kernelspec": {
   "display_name": "Python 3",
   "language": "python",
   "name": "python3"
  },
  "language_info": {
   "codemirror_mode": {
    "name": "ipython",
    "version": 3
   },
   "file_extension": ".py",
   "mimetype": "text/x-python",
   "name": "python",
   "nbconvert_exporter": "python",
   "pygments_lexer": "ipython3",
   "version": "3.9.5"
  }
 },
 "nbformat": 4,
 "nbformat_minor": 4
}
