{
 "cells": [
  {
   "cell_type": "markdown",
   "metadata": {
    "id": "A0jkNKbSXyDU"
   },
   "source": [
    "Nama         : Ghozy Ghulamul Afif\n",
    "\n",
    "NIM          : 1301170379\n",
    "\n",
    "Judul TA     : Implementasi Information Gain (IG) dan Genetic Algorithm (GA) untuk Reduksi Dimensi pada Klasifikasi Data Microarray Menggunakan Functional Link Neural Network (FLNN)\n",
    "\n",
    "Pembimbing 1 : Widi Astuti, S.T., M.Kom.\n",
    "\n",
    "Pembimbing 2 : Prof. Dr. Adiwijaya"
   ]
  },
  {
   "cell_type": "markdown",
   "metadata": {
    "id": "0Qh0del_I5dl"
   },
   "source": [
    "# 1. Preprocessing"
   ]
  },
  {
   "cell_type": "markdown",
   "metadata": {
    "id": "_K0cFh0oKSBF"
   },
   "source": [
    "## 1.1. Import Library"
   ]
  },
  {
   "cell_type": "code",
   "execution_count": 1,
   "metadata": {
    "id": "Cn8BCYDgZwHX"
   },
   "outputs": [],
   "source": [
    "import pandas as pd\n",
    "from sklearn.preprocessing import  MinMaxScaler\n",
    "from pandas import DataFrame\n",
    "from scipy.special import legendre\n",
    "import numpy as np\n",
    "from sklearn.model_selection import StratifiedKFold\n",
    "import matplotlib.pyplot as plt\n",
    "import keras\n",
    "from tensorflow.python.keras.layers import Dense\n",
    "from keras.optimizers import Adam\n",
    "from tensorflow.python.keras import Sequential\n",
    "from sklearn.metrics import accuracy_score, f1_score\n",
    "from sklearn.metrics import classification_report\n",
    "import random\n",
    "import timeit\n",
    "from sklearn.feature_selection import mutual_info_classif\n",
    "from sklearn.feature_selection import SelectKBest"
   ]
  },
  {
   "cell_type": "markdown",
   "metadata": {
    "id": "7vNrreDQZubc"
   },
   "source": [
    "## 1.2. Import Dataset"
   ]
  },
  {
   "cell_type": "code",
   "execution_count": 2,
   "metadata": {
    "id": "GMRraUUOzPk3"
   },
   "outputs": [],
   "source": [
    "# data colon\n",
    "url = \"https://raw.githubusercontent.com/jamessaldo/final-task/master/colonTumor.data\"\n",
    "data_colon = pd.read_csv(url, header=None)"
   ]
  },
  {
   "cell_type": "markdown",
   "metadata": {
    "id": "b4cB_13-TxQo"
   },
   "source": [
    "## 1.3. Check Missing Value"
   ]
  },
  {
   "cell_type": "code",
   "execution_count": 3,
   "metadata": {
    "colab": {
     "base_uri": "https://localhost:8080/"
    },
    "id": "R2aU78BwTwlz",
    "outputId": "f567de29-4293-466c-da79-c9ecd92bb5d4"
   },
   "outputs": [
    {
     "name": "stdout",
     "output_type": "stream",
     "text": [
      "Total Missing Value pada Data colon Tumor: 0\n"
     ]
    }
   ],
   "source": [
    "print('Total Missing Value pada Data colon Tumor:',data_colon.isnull().sum().sum())"
   ]
  },
  {
   "cell_type": "markdown",
   "metadata": {
    "id": "sU9gQQqhqSO7"
   },
   "source": [
    "## 1.4. Normalization"
   ]
  },
  {
   "cell_type": "code",
   "execution_count": 4,
   "metadata": {
    "id": "JedwSdEXqPlw"
   },
   "outputs": [],
   "source": [
    "# Melakukan normalisasi\n",
    "# data colon\n",
    "data_new_colon = data_colon.drop([2000],axis=1)\n",
    "scaler = MinMaxScaler()\n",
    "data_new_colon = scaler.fit_transform(data_new_colon)\n",
    "data_new_colon = DataFrame(data_new_colon)\n",
    "data_new_colon['label'] = list(data_colon[2000])\n",
    "dic = {'negative':1,'positive':0}\n",
    "data_new_colon.replace(dic,inplace=True)"
   ]
  },
  {
   "cell_type": "markdown",
   "metadata": {
    "id": "fjCSdG9vz4pE"
   },
   "source": [
    "# 2. Define Reusable Function"
   ]
  },
  {
   "cell_type": "markdown",
   "metadata": {
    "id": "7OaQhLtNUEEn"
   },
   "source": [
    "## FLNN Classifier"
   ]
  },
  {
   "cell_type": "code",
   "execution_count": 5,
   "metadata": {
    "id": "Yj0yC_4o0xJn"
   },
   "outputs": [],
   "source": [
    "def FLNN_Classifier(data_train, data_test, orde, lr):\n",
    "    start = timeit.default_timer()\n",
    "    \n",
    "    x_data_train = data_train.drop(['label'],axis=1)\n",
    "    y_data_train = data_train['label']\n",
    "    x_data_test = data_test.drop(['label'],axis=1)\n",
    "    y_data_test = data_test['label']\n",
    "    \n",
    "    df_train = pd.DataFrame()\n",
    "    df_test = pd.DataFrame()\n",
    "\n",
    "    for x in range(1, orde+1):\n",
    "        pn = legendre(x)\n",
    "        y_orde = pn(x_data_train)\n",
    "        df_train = pd.concat([df_train, y_orde], axis=1)\n",
    "        \n",
    "        pn = legendre(x)\n",
    "        y_orde = pn(x_data_test)\n",
    "        df_test = pd.concat([df_test, y_orde], axis=1)\n",
    "\n",
    "    df_train.columns = [\"Attribut\"+str(i) for i in range(len(df_train.columns))]\n",
    "    df_train['label'] = y_data_train.reset_index().label\n",
    "    X_train = df_train.iloc[:, 0:len(df_train.columns)-1].values\n",
    "    y_train = df_train.iloc[:, len(df_train.columns)-1].values\n",
    "    \n",
    "    df_test.columns = [\"Attribut\"+str(i) for i in range(len(df_test.columns))]\n",
    "    df_test['label'] = y_data_test.reset_index().label\n",
    "    X_test = df_test.iloc[:, 0:len(df_test.columns)-1].values\n",
    "    y_test = df_test.iloc[:, len(df_test.columns)-1].values\n",
    "\n",
    "    # Melakukan proses klasifikasi FLNN\n",
    "    # Inisialisasi FLNN\n",
    "    Model = Sequential()\n",
    "    # Menambah input layer dan hidden layer pertama\n",
    "    Model.add(Dense(units = len(df_train.columns)-1, kernel_initializer = 'uniform', input_dim = len(df_train.columns)-1))\n",
    "    # Menambah output layer\n",
    "    Model.add(Dense(units = 1, kernel_initializer = 'uniform', activation = 'sigmoid'))\n",
    "    # Menjalankan ANN\n",
    "    Model.compile(optimizer = Adam(learning_rate=lr), loss = 'mean_squared_error', metrics = ['accuracy'])\n",
    "    # Fitting ANN ke training set\n",
    "    history = Model.fit(X_train, y_train, batch_size = 50, epochs = 100, validation_split = 0.2, verbose=False)\n",
    "\n",
    "    #Memprediksi hasil test set\n",
    "    y_pred = Model(X_test)\n",
    "    y_pred =(y_pred >= 0.5)\n",
    "\n",
    "    #print(\"X_Train :\", X_train)\n",
    "    print(\"Y_Train :\", y_train)\n",
    "\n",
    "    #print(\"X_Test :\", X_test)\n",
    "    print(\"Y_Test :\", y_test)\n",
    "\n",
    "    akurasi = accuracy_score(y_test,y_pred)\n",
    "    F1 = f1_score(y_test, y_pred, average='macro')\n",
    "\n",
    "    print(\"Akurasi : \", akurasi)\n",
    "    print(\"F1_Score : \", F1)\n",
    "    print(classification_report(y_test,y_pred))\n",
    "\n",
    "    # Membuat confusion matrix\n",
    "    from sklearn.metrics import confusion_matrix \n",
    "    from mlxtend.plotting import plot_confusion_matrix\n",
    "    cm = confusion_matrix(y_test, y_pred)\n",
    "    fig, ax = plot_confusion_matrix(conf_mat = cm, figsize=(5,5))\n",
    "    plt.show()\n",
    "\n",
    "    stop = timeit.default_timer()\n",
    "    print('Running Time: ', stop - start) \n",
    "    return akurasi, F1, stop-start"
   ]
  },
  {
   "cell_type": "markdown",
   "metadata": {
    "id": "PQoKkj8-OIPX"
   },
   "source": [
    "# 3. Classification"
   ]
  },
  {
   "cell_type": "code",
   "execution_count": 6,
   "metadata": {
    "scrolled": true,
    "tags": []
   },
   "outputs": [
    {
     "name": "stdout",
     "output_type": "stream",
     "text": [
      "Train :  [ 1  2  4  5  6  7  8  9 10 11 13 14 16 17 18 19 23 25 26 27 29 30 31 32\n",
      " 33 34 36 37 38 39 40 41 43 44 45 46 48 49 50 51 52 53 54 55 57 58 59 60\n",
      " 61] Test :  [ 0  3 12 15 20 21 22 24 28 35 42 47 56]\n",
      "colon + IG Orde 2 v1\n",
      "Y_Train : [0 1 1 0 1 0 1 0 1 0 0 1 1 0 1 0 0 1 1 1 1 1 1 1 1 1 1 1 0 1 1 0 1 1 1 1 1\n",
      " 0 0 1 1 0 0 1 1 1 0 1 0]\n",
      "Y_Test : [1 0 1 0 1 0 1 1 1 1 0 0 1]\n",
      "Akurasi :  0.6923076923076923\n",
      "F1_Score :  0.6388888888888888\n",
      "              precision    recall  f1-score   support\n",
      "\n",
      "           0       0.67      0.40      0.50         5\n",
      "           1       0.70      0.88      0.78         8\n",
      "\n",
      "    accuracy                           0.69        13\n",
      "   macro avg       0.68      0.64      0.64        13\n",
      "weighted avg       0.69      0.69      0.67        13\n",
      "\n"
     ]
    },
    {
     "data": {
      "image/png": "[encoded data removed]",
      "text/plain": [
       "<Figure size 360x360 with 1 Axes>"
      ]
     },
     "metadata": {
      "needs_background": "light"
     },
     "output_type": "display_data"
    },
    {
     "name": "stdout",
     "output_type": "stream",
     "text": [
      "Running Time:  13.468757137\n",
      "colon + IG Orde 3 v1\n",
      "Y_Train : [0 1 1 0 1 0 1 0 1 0 0 1 1 0 1 0 0 1 1 1 1 1 1 1 1 1 1 1 0 1 1 0 1 1 1 1 1\n",
      " 0 0 1 1 0 0 1 1 1 0 1 0]\n",
      "Y_Test : [1 0 1 0 1 0 1 1 1 1 0 0 1]\n",
      "Akurasi :  0.6153846153846154\n",
      "F1_Score :  0.380952380952381\n",
      "              precision    recall  f1-score   support\n",
      "\n",
      "           0       0.00      0.00      0.00         5\n",
      "           1       0.62      1.00      0.76         8\n",
      "\n",
      "    accuracy                           0.62        13\n",
      "   macro avg       0.31      0.50      0.38        13\n",
      "weighted avg       0.38      0.62      0.47        13\n",
      "\n"
     ]
    },
    {
     "name": "stderr",
     "output_type": "stream",
     "text": [
      "/usr/local/lib/python3.9/site-packages/sklearn/metrics/_classification.py:1248: UndefinedMetricWarning: Precision and F-score are ill-defined and being set to 0.0 in labels with no predicted samples. Use `zero_division` parameter to control this behavior.\n",
      "  _warn_prf(average, modifier, msg_start, len(result))\n",
      "/usr/local/lib/python3.9/site-packages/sklearn/metrics/_classification.py:1248: UndefinedMetricWarning: Precision and F-score are ill-defined and being set to 0.0 in labels with no predicted samples. Use `zero_division` parameter to control this behavior.\n",
      "  _warn_prf(average, modifier, msg_start, len(result))\n",
      "/usr/local/lib/python3.9/site-packages/sklearn/metrics/_classification.py:1248: UndefinedMetricWarning: Precision and F-score are ill-defined and being set to 0.0 in labels with no predicted samples. Use `zero_division` parameter to control this behavior.\n",
      "  _warn_prf(average, modifier, msg_start, len(result))\n"
     ]
    },
    {
     "data": {
      "image/png": "[encoded data removed]",
      "text/plain": [
       "<Figure size 360x360 with 1 Axes>"
      ]
     },
     "metadata": {
      "needs_background": "light"
     },
     "output_type": "display_data"
    },
    {
     "name": "stdout",
     "output_type": "stream",
     "text": [
      "Running Time:  31.950224463\n",
      "colon + IG Orde 4 v1\n",
      "Y_Train : [0 1 1 0 1 0 1 0 1 0 0 1 1 0 1 0 0 1 1 1 1 1 1 1 1 1 1 1 0 1 1 0 1 1 1 1 1\n",
      " 0 0 1 1 0 0 1 1 1 0 1 0]\n",
      "Y_Test : [1 0 1 0 1 0 1 1 1 1 0 0 1]\n",
      "Akurasi :  0.6153846153846154\n",
      "F1_Score :  0.380952380952381\n",
      "              precision    recall  f1-score   support\n",
      "\n",
      "           0       0.00      0.00      0.00         5\n",
      "           1       0.62      1.00      0.76         8\n",
      "\n",
      "    accuracy                           0.62        13\n",
      "   macro avg       0.31      0.50      0.38        13\n",
      "weighted avg       0.38      0.62      0.47        13\n",
      "\n"
     ]
    },
    {
     "name": "stderr",
     "output_type": "stream",
     "text": [
      "/usr/local/lib/python3.9/site-packages/sklearn/metrics/_classification.py:1248: UndefinedMetricWarning: Precision and F-score are ill-defined and being set to 0.0 in labels with no predicted samples. Use `zero_division` parameter to control this behavior.\n",
      "  _warn_prf(average, modifier, msg_start, len(result))\n",
      "/usr/local/lib/python3.9/site-packages/sklearn/metrics/_classification.py:1248: UndefinedMetricWarning: Precision and F-score are ill-defined and being set to 0.0 in labels with no predicted samples. Use `zero_division` parameter to control this behavior.\n",
      "  _warn_prf(average, modifier, msg_start, len(result))\n",
      "/usr/local/lib/python3.9/site-packages/sklearn/metrics/_classification.py:1248: UndefinedMetricWarning: Precision and F-score are ill-defined and being set to 0.0 in labels with no predicted samples. Use `zero_division` parameter to control this behavior.\n",
      "  _warn_prf(average, modifier, msg_start, len(result))\n"
     ]
    },
    {
     "data": {
      "image/png": "[encoded data removed]",
      "text/plain": [
       "<Figure size 360x360 with 1 Axes>"
      ]
     },
     "metadata": {
      "needs_background": "light"
     },
     "output_type": "display_data"
    },
    {
     "name": "stdout",
     "output_type": "stream",
     "text": [
      "Running Time:  45.350034244\n",
      "colon + IG Orde 2 v2\n",
      "Y_Train : [0 1 1 0 1 0 1 0 1 0 0 1 1 0 1 0 0 1 1 1 1 1 1 1 1 1 1 1 0 1 1 0 1 1 1 1 1\n",
      " 0 0 1 1 0 0 1 1 1 0 1 0]\n",
      "Y_Test : [1 0 1 0 1 0 1 1 1 1 0 0 1]\n",
      "Akurasi :  0.23076923076923078\n",
      "F1_Score :  0.22619047619047616\n",
      "              precision    recall  f1-score   support\n",
      "\n",
      "           0       0.22      0.40      0.29         5\n",
      "           1       0.25      0.12      0.17         8\n",
      "\n",
      "    accuracy                           0.23        13\n",
      "   macro avg       0.24      0.26      0.23        13\n",
      "weighted avg       0.24      0.23      0.21        13\n",
      "\n"
     ]
    },
    {
     "data": {
      "image/png": "[encoded data removed]",
      "text/plain": [
       "<Figure size 360x360 with 1 Axes>"
      ]
     },
     "metadata": {
      "needs_background": "light"
     },
     "output_type": "display_data"
    },
    {
     "name": "stdout",
     "output_type": "stream",
     "text": [
      "Running Time:  14.260734797000012\n",
      "colon + IG Orde 3 v2\n",
      "Y_Train : [0 1 1 0 1 0 1 0 1 0 0 1 1 0 1 0 0 1 1 1 1 1 1 1 1 1 1 1 0 1 1 0 1 1 1 1 1\n",
      " 0 0 1 1 0 0 1 1 1 0 1 0]\n",
      "Y_Test : [1 0 1 0 1 0 1 1 1 1 0 0 1]\n",
      "Akurasi :  0.38461538461538464\n",
      "F1_Score :  0.2777777777777778\n",
      "              precision    recall  f1-score   support\n",
      "\n",
      "           0       0.38      1.00      0.56         5\n",
      "           1       0.00      0.00      0.00         8\n",
      "\n",
      "    accuracy                           0.38        13\n",
      "   macro avg       0.19      0.50      0.28        13\n",
      "weighted avg       0.15      0.38      0.21        13\n",
      "\n"
     ]
    },
    {
     "name": "stderr",
     "output_type": "stream",
     "text": [
      "/usr/local/lib/python3.9/site-packages/sklearn/metrics/_classification.py:1248: UndefinedMetricWarning: Precision and F-score are ill-defined and being set to 0.0 in labels with no predicted samples. Use `zero_division` parameter to control this behavior.\n",
      "  _warn_prf(average, modifier, msg_start, len(result))\n",
      "/usr/local/lib/python3.9/site-packages/sklearn/metrics/_classification.py:1248: UndefinedMetricWarning: Precision and F-score are ill-defined and being set to 0.0 in labels with no predicted samples. Use `zero_division` parameter to control this behavior.\n",
      "  _warn_prf(average, modifier, msg_start, len(result))\n",
      "/usr/local/lib/python3.9/site-packages/sklearn/metrics/_classification.py:1248: UndefinedMetricWarning: Precision and F-score are ill-defined and being set to 0.0 in labels with no predicted samples. Use `zero_division` parameter to control this behavior.\n",
      "  _warn_prf(average, modifier, msg_start, len(result))\n"
     ]
    },
    {
     "data": {
      "image/png": "[encoded data removed]",
      "text/plain": [
       "<Figure size 360x360 with 1 Axes>"
      ]
     },
     "metadata": {
      "needs_background": "light"
     },
     "output_type": "display_data"
    },
    {
     "name": "stdout",
     "output_type": "stream",
     "text": [
      "Running Time:  35.481260025\n",
      "colon + IG Orde 4 v1\n",
      "Y_Train : [0 1 1 0 1 0 1 0 1 0 0 1 1 0 1 0 0 1 1 1 1 1 1 1 1 1 1 1 0 1 1 0 1 1 1 1 1\n",
      " 0 0 1 1 0 0 1 1 1 0 1 0]\n",
      "Y_Test : [1 0 1 0 1 0 1 1 1 1 0 0 1]\n",
      "Akurasi :  0.6153846153846154\n",
      "F1_Score :  0.380952380952381\n",
      "              precision    recall  f1-score   support\n",
      "\n",
      "           0       0.00      0.00      0.00         5\n",
      "           1       0.62      1.00      0.76         8\n",
      "\n",
      "    accuracy                           0.62        13\n",
      "   macro avg       0.31      0.50      0.38        13\n",
      "weighted avg       0.38      0.62      0.47        13\n",
      "\n"
     ]
    },
    {
     "name": "stderr",
     "output_type": "stream",
     "text": [
      "/usr/local/lib/python3.9/site-packages/sklearn/metrics/_classification.py:1248: UndefinedMetricWarning: Precision and F-score are ill-defined and being set to 0.0 in labels with no predicted samples. Use `zero_division` parameter to control this behavior.\n",
      "  _warn_prf(average, modifier, msg_start, len(result))\n",
      "/usr/local/lib/python3.9/site-packages/sklearn/metrics/_classification.py:1248: UndefinedMetricWarning: Precision and F-score are ill-defined and being set to 0.0 in labels with no predicted samples. Use `zero_division` parameter to control this behavior.\n",
      "  _warn_prf(average, modifier, msg_start, len(result))\n",
      "/usr/local/lib/python3.9/site-packages/sklearn/metrics/_classification.py:1248: UndefinedMetricWarning: Precision and F-score are ill-defined and being set to 0.0 in labels with no predicted samples. Use `zero_division` parameter to control this behavior.\n",
      "  _warn_prf(average, modifier, msg_start, len(result))\n"
     ]
    },
    {
     "data": {
      "image/png": "[encoded data removed]",
      "text/plain": [
       "<Figure size 360x360 with 1 Axes>"
      ]
     },
     "metadata": {
      "needs_background": "light"
     },
     "output_type": "display_data"
    },
    {
     "name": "stdout",
     "output_type": "stream",
     "text": [
      "Running Time:  47.303321122\n",
      "Train :  [ 0  1  2  3  4  5  6  7 11 12 13 14 15 16 17 19 20 21 22 24 25 26 27 28\n",
      " 29 31 32 33 34 35 36 37 40 42 43 45 46 47 48 49 51 52 53 54 55 56 58 59\n",
      " 61] Test :  [ 8  9 10 18 23 30 38 39 41 44 50 57 60]\n",
      "colon + IG Orde 2 v1\n",
      "Y_Train : [1 0 1 0 1 0 1 0 0 1 0 1 0 1 0 0 1 0 1 1 1 1 1 1 1 1 1 1 1 1 1 1 1 0 1 1 1\n",
      " 0 1 0 1 1 0 0 1 1 1 0 0]\n",
      "Y_Test : [1 0 1 1 0 1 0 1 0 1 0 1 1]\n",
      "Akurasi :  0.6153846153846154\n",
      "F1_Score :  0.380952380952381\n",
      "              precision    recall  f1-score   support\n",
      "\n",
      "           0       0.00      0.00      0.00         5\n",
      "           1       0.62      1.00      0.76         8\n",
      "\n",
      "    accuracy                           0.62        13\n",
      "   macro avg       0.31      0.50      0.38        13\n",
      "weighted avg       0.38      0.62      0.47        13\n",
      "\n"
     ]
    },
    {
     "name": "stderr",
     "output_type": "stream",
     "text": [
      "/usr/local/lib/python3.9/site-packages/sklearn/metrics/_classification.py:1248: UndefinedMetricWarning: Precision and F-score are ill-defined and being set to 0.0 in labels with no predicted samples. Use `zero_division` parameter to control this behavior.\n",
      "  _warn_prf(average, modifier, msg_start, len(result))\n",
      "/usr/local/lib/python3.9/site-packages/sklearn/metrics/_classification.py:1248: UndefinedMetricWarning: Precision and F-score are ill-defined and being set to 0.0 in labels with no predicted samples. Use `zero_division` parameter to control this behavior.\n",
      "  _warn_prf(average, modifier, msg_start, len(result))\n",
      "/usr/local/lib/python3.9/site-packages/sklearn/metrics/_classification.py:1248: UndefinedMetricWarning: Precision and F-score are ill-defined and being set to 0.0 in labels with no predicted samples. Use `zero_division` parameter to control this behavior.\n",
      "  _warn_prf(average, modifier, msg_start, len(result))\n"
     ]
    },
    {
     "data": {
      "image/png": "[encoded data removed]",
      "text/plain": [
       "<Figure size 360x360 with 1 Axes>"
      ]
     },
     "metadata": {
      "needs_background": "light"
     },
     "output_type": "display_data"
    },
    {
     "name": "stdout",
     "output_type": "stream",
     "text": [
      "Running Time:  11.22892469499999\n",
      "colon + IG Orde 3 v1\n",
      "Y_Train : [1 0 1 0 1 0 1 0 0 1 0 1 0 1 0 0 1 0 1 1 1 1 1 1 1 1 1 1 1 1 1 1 1 0 1 1 1\n",
      " 0 1 0 1 1 0 0 1 1 1 0 0]\n",
      "Y_Test : [1 0 1 1 0 1 0 1 0 1 0 1 1]\n",
      "Akurasi :  0.6153846153846154\n",
      "F1_Score :  0.380952380952381\n",
      "              precision    recall  f1-score   support\n",
      "\n",
      "           0       0.00      0.00      0.00         5\n",
      "           1       0.62      1.00      0.76         8\n",
      "\n",
      "    accuracy                           0.62        13\n",
      "   macro avg       0.31      0.50      0.38        13\n",
      "weighted avg       0.38      0.62      0.47        13\n",
      "\n"
     ]
    },
    {
     "name": "stderr",
     "output_type": "stream",
     "text": [
      "/usr/local/lib/python3.9/site-packages/sklearn/metrics/_classification.py:1248: UndefinedMetricWarning: Precision and F-score are ill-defined and being set to 0.0 in labels with no predicted samples. Use `zero_division` parameter to control this behavior.\n",
      "  _warn_prf(average, modifier, msg_start, len(result))\n",
      "/usr/local/lib/python3.9/site-packages/sklearn/metrics/_classification.py:1248: UndefinedMetricWarning: Precision and F-score are ill-defined and being set to 0.0 in labels with no predicted samples. Use `zero_division` parameter to control this behavior.\n",
      "  _warn_prf(average, modifier, msg_start, len(result))\n",
      "/usr/local/lib/python3.9/site-packages/sklearn/metrics/_classification.py:1248: UndefinedMetricWarning: Precision and F-score are ill-defined and being set to 0.0 in labels with no predicted samples. Use `zero_division` parameter to control this behavior.\n",
      "  _warn_prf(average, modifier, msg_start, len(result))\n"
     ]
    },
    {
     "data": {
      "image/png": "[encoded data removed]",
      "text/plain": [
       "<Figure size 360x360 with 1 Axes>"
      ]
     },
     "metadata": {
      "needs_background": "light"
     },
     "output_type": "display_data"
    },
    {
     "name": "stdout",
     "output_type": "stream",
     "text": [
      "Running Time:  22.900014163999998\n",
      "colon + IG Orde 4 v1\n",
      "Y_Train : [1 0 1 0 1 0 1 0 0 1 0 1 0 1 0 0 1 0 1 1 1 1 1 1 1 1 1 1 1 1 1 1 1 0 1 1 1\n",
      " 0 1 0 1 1 0 0 1 1 1 0 0]\n",
      "Y_Test : [1 0 1 1 0 1 0 1 0 1 0 1 1]\n",
      "Akurasi :  0.38461538461538464\n",
      "F1_Score :  0.2777777777777778\n",
      "              precision    recall  f1-score   support\n",
      "\n",
      "           0       0.38      1.00      0.56         5\n",
      "           1       0.00      0.00      0.00         8\n",
      "\n",
      "    accuracy                           0.38        13\n",
      "   macro avg       0.19      0.50      0.28        13\n",
      "weighted avg       0.15      0.38      0.21        13\n",
      "\n"
     ]
    },
    {
     "name": "stderr",
     "output_type": "stream",
     "text": [
      "/usr/local/lib/python3.9/site-packages/sklearn/metrics/_classification.py:1248: UndefinedMetricWarning: Precision and F-score are ill-defined and being set to 0.0 in labels with no predicted samples. Use `zero_division` parameter to control this behavior.\n",
      "  _warn_prf(average, modifier, msg_start, len(result))\n",
      "/usr/local/lib/python3.9/site-packages/sklearn/metrics/_classification.py:1248: UndefinedMetricWarning: Precision and F-score are ill-defined and being set to 0.0 in labels with no predicted samples. Use `zero_division` parameter to control this behavior.\n",
      "  _warn_prf(average, modifier, msg_start, len(result))\n",
      "/usr/local/lib/python3.9/site-packages/sklearn/metrics/_classification.py:1248: UndefinedMetricWarning: Precision and F-score are ill-defined and being set to 0.0 in labels with no predicted samples. Use `zero_division` parameter to control this behavior.\n",
      "  _warn_prf(average, modifier, msg_start, len(result))\n"
     ]
    },
    {
     "data": {
      "image/png": "[encoded data removed]",
      "text/plain": [
       "<Figure size 360x360 with 1 Axes>"
      ]
     },
     "metadata": {
      "needs_background": "light"
     },
     "output_type": "display_data"
    },
    {
     "name": "stdout",
     "output_type": "stream",
     "text": [
      "Running Time:  41.869601243000034\n",
      "colon + IG Orde 2 v2\n",
      "Y_Train : [1 0 1 0 1 0 1 0 0 1 0 1 0 1 0 0 1 0 1 1 1 1 1 1 1 1 1 1 1 1 1 1 1 0 1 1 1\n",
      " 0 1 0 1 1 0 0 1 1 1 0 0]\n",
      "Y_Test : [1 0 1 1 0 1 0 1 0 1 0 1 1]\n",
      "Akurasi :  0.6153846153846154\n",
      "F1_Score :  0.380952380952381\n",
      "              precision    recall  f1-score   support\n",
      "\n",
      "           0       0.00      0.00      0.00         5\n",
      "           1       0.62      1.00      0.76         8\n",
      "\n",
      "    accuracy                           0.62        13\n",
      "   macro avg       0.31      0.50      0.38        13\n",
      "weighted avg       0.38      0.62      0.47        13\n",
      "\n"
     ]
    },
    {
     "name": "stderr",
     "output_type": "stream",
     "text": [
      "/usr/local/lib/python3.9/site-packages/sklearn/metrics/_classification.py:1248: UndefinedMetricWarning: Precision and F-score are ill-defined and being set to 0.0 in labels with no predicted samples. Use `zero_division` parameter to control this behavior.\n",
      "  _warn_prf(average, modifier, msg_start, len(result))\n",
      "/usr/local/lib/python3.9/site-packages/sklearn/metrics/_classification.py:1248: UndefinedMetricWarning: Precision and F-score are ill-defined and being set to 0.0 in labels with no predicted samples. Use `zero_division` parameter to control this behavior.\n",
      "  _warn_prf(average, modifier, msg_start, len(result))\n",
      "/usr/local/lib/python3.9/site-packages/sklearn/metrics/_classification.py:1248: UndefinedMetricWarning: Precision and F-score are ill-defined and being set to 0.0 in labels with no predicted samples. Use `zero_division` parameter to control this behavior.\n",
      "  _warn_prf(average, modifier, msg_start, len(result))\n"
     ]
    },
    {
     "data": {
      "image/png": "[encoded data removed]",
      "text/plain": [
       "<Figure size 360x360 with 1 Axes>"
      ]
     },
     "metadata": {
      "needs_background": "light"
     },
     "output_type": "display_data"
    },
    {
     "name": "stdout",
     "output_type": "stream",
     "text": [
      "Running Time:  10.786164771000017\n",
      "colon + IG Orde 3 v2\n",
      "Y_Train : [1 0 1 0 1 0 1 0 0 1 0 1 0 1 0 0 1 0 1 1 1 1 1 1 1 1 1 1 1 1 1 1 1 0 1 1 1\n",
      " 0 1 0 1 1 0 0 1 1 1 0 0]\n",
      "Y_Test : [1 0 1 1 0 1 0 1 0 1 0 1 1]\n",
      "Akurasi :  0.6153846153846154\n",
      "F1_Score :  0.380952380952381\n",
      "              precision    recall  f1-score   support\n",
      "\n",
      "           0       0.00      0.00      0.00         5\n",
      "           1       0.62      1.00      0.76         8\n",
      "\n",
      "    accuracy                           0.62        13\n",
      "   macro avg       0.31      0.50      0.38        13\n",
      "weighted avg       0.38      0.62      0.47        13\n",
      "\n"
     ]
    },
    {
     "name": "stderr",
     "output_type": "stream",
     "text": [
      "/usr/local/lib/python3.9/site-packages/sklearn/metrics/_classification.py:1248: UndefinedMetricWarning: Precision and F-score are ill-defined and being set to 0.0 in labels with no predicted samples. Use `zero_division` parameter to control this behavior.\n",
      "  _warn_prf(average, modifier, msg_start, len(result))\n",
      "/usr/local/lib/python3.9/site-packages/sklearn/metrics/_classification.py:1248: UndefinedMetricWarning: Precision and F-score are ill-defined and being set to 0.0 in labels with no predicted samples. Use `zero_division` parameter to control this behavior.\n",
      "  _warn_prf(average, modifier, msg_start, len(result))\n",
      "/usr/local/lib/python3.9/site-packages/sklearn/metrics/_classification.py:1248: UndefinedMetricWarning: Precision and F-score are ill-defined and being set to 0.0 in labels with no predicted samples. Use `zero_division` parameter to control this behavior.\n",
      "  _warn_prf(average, modifier, msg_start, len(result))\n"
     ]
    },
    {
     "data": {
      "image/png": "[encoded data removed]",
      "text/plain": [
       "<Figure size 360x360 with 1 Axes>"
      ]
     },
     "metadata": {
      "needs_background": "light"
     },
     "output_type": "display_data"
    },
    {
     "name": "stdout",
     "output_type": "stream",
     "text": [
      "Running Time:  24.427855370999964\n",
      "colon + IG Orde 4 v1\n",
      "Y_Train : [1 0 1 0 1 0 1 0 0 1 0 1 0 1 0 0 1 0 1 1 1 1 1 1 1 1 1 1 1 1 1 1 1 0 1 1 1\n",
      " 0 1 0 1 1 0 0 1 1 1 0 0]\n",
      "Y_Test : [1 0 1 1 0 1 0 1 0 1 0 1 1]\n",
      "Akurasi :  0.6153846153846154\n",
      "F1_Score :  0.380952380952381\n",
      "              precision    recall  f1-score   support\n",
      "\n",
      "           0       0.00      0.00      0.00         5\n",
      "           1       0.62      1.00      0.76         8\n",
      "\n",
      "    accuracy                           0.62        13\n",
      "   macro avg       0.31      0.50      0.38        13\n",
      "weighted avg       0.38      0.62      0.47        13\n",
      "\n"
     ]
    },
    {
     "name": "stderr",
     "output_type": "stream",
     "text": [
      "/usr/local/lib/python3.9/site-packages/sklearn/metrics/_classification.py:1248: UndefinedMetricWarning: Precision and F-score are ill-defined and being set to 0.0 in labels with no predicted samples. Use `zero_division` parameter to control this behavior.\n",
      "  _warn_prf(average, modifier, msg_start, len(result))\n",
      "/usr/local/lib/python3.9/site-packages/sklearn/metrics/_classification.py:1248: UndefinedMetricWarning: Precision and F-score are ill-defined and being set to 0.0 in labels with no predicted samples. Use `zero_division` parameter to control this behavior.\n",
      "  _warn_prf(average, modifier, msg_start, len(result))\n",
      "/usr/local/lib/python3.9/site-packages/sklearn/metrics/_classification.py:1248: UndefinedMetricWarning: Precision and F-score are ill-defined and being set to 0.0 in labels with no predicted samples. Use `zero_division` parameter to control this behavior.\n",
      "  _warn_prf(average, modifier, msg_start, len(result))\n"
     ]
    },
    {
     "data": {
      "image/png": "[encoded data removed]",
      "text/plain": [
       "<Figure size 360x360 with 1 Axes>"
      ]
     },
     "metadata": {
      "needs_background": "light"
     },
     "output_type": "display_data"
    },
    {
     "name": "stdout",
     "output_type": "stream",
     "text": [
      "Running Time:  40.711406001\n",
      "Train :  [ 0  1  2  3  4  5  6  7  8  9 10 11 12 13 14 15 16 17 18 20 21 22 23 24\n",
      " 27 28 30 31 35 37 38 39 40 41 42 43 44 45 47 48 49 50 51 52 55 56 57 58\n",
      " 60 61] Test :  [19 25 26 29 32 33 34 36 46 53 54 59]\n",
      "colon + IG Orde 2 v1\n",
      "Y_Train : [1 0 1 0 1 0 1 0 1 0 1 0 1 0 1 0 1 0 1 1 0 1 0 1 1 1 1 1 1 1 0 1 1 0 0 1 1\n",
      " 1 0 1 0 0 1 1 1 1 1 1 1 0]\n",
      "Y_Test : [0 1 1 1 1 1 1 1 1 0 0 0]\n",
      "Akurasi :  0.5833333333333334\n",
      "F1_Score :  0.3684210526315789\n",
      "              precision    recall  f1-score   support\n",
      "\n",
      "           0       0.00      0.00      0.00         4\n",
      "           1       0.64      0.88      0.74         8\n",
      "\n",
      "    accuracy                           0.58        12\n",
      "   macro avg       0.32      0.44      0.37        12\n",
      "weighted avg       0.42      0.58      0.49        12\n",
      "\n"
     ]
    },
    {
     "data": {
      "image/png": "[encoded data removed]",
      "text/plain": [
       "<Figure size 360x360 with 1 Axes>"
      ]
     },
     "metadata": {
      "needs_background": "light"
     },
     "output_type": "display_data"
    },
    {
     "name": "stdout",
     "output_type": "stream",
     "text": [
      "Running Time:  11.274805425000011\n",
      "colon + IG Orde 3 v1\n",
      "Y_Train : [1 0 1 0 1 0 1 0 1 0 1 0 1 0 1 0 1 0 1 1 0 1 0 1 1 1 1 1 1 1 0 1 1 0 0 1 1\n",
      " 1 0 1 0 0 1 1 1 1 1 1 1 0]\n",
      "Y_Test : [0 1 1 1 1 1 1 1 1 0 0 0]\n",
      "Akurasi :  0.75\n",
      "F1_Score :  0.6974789915966387\n",
      "              precision    recall  f1-score   support\n",
      "\n",
      "           0       0.67      0.50      0.57         4\n",
      "           1       0.78      0.88      0.82         8\n",
      "\n",
      "    accuracy                           0.75        12\n",
      "   macro avg       0.72      0.69      0.70        12\n",
      "weighted avg       0.74      0.75      0.74        12\n",
      "\n"
     ]
    },
    {
     "data": {
      "image/png": "[encoded data removed]",
      "text/plain": [
       "<Figure size 360x360 with 1 Axes>"
      ]
     },
     "metadata": {
      "needs_background": "light"
     },
     "output_type": "display_data"
    },
    {
     "name": "stdout",
     "output_type": "stream",
     "text": [
      "Running Time:  26.184545491999984\n",
      "colon + IG Orde 4 v1\n",
      "Y_Train : [1 0 1 0 1 0 1 0 1 0 1 0 1 0 1 0 1 0 1 1 0 1 0 1 1 1 1 1 1 1 0 1 1 0 0 1 1\n",
      " 1 0 1 0 0 1 1 1 1 1 1 1 0]\n",
      "Y_Test : [0 1 1 1 1 1 1 1 1 0 0 0]\n",
      "Akurasi :  0.3333333333333333\n",
      "F1_Score :  0.25\n",
      "              precision    recall  f1-score   support\n",
      "\n",
      "           0       0.33      1.00      0.50         4\n",
      "           1       0.00      0.00      0.00         8\n",
      "\n",
      "    accuracy                           0.33        12\n",
      "   macro avg       0.17      0.50      0.25        12\n",
      "weighted avg       0.11      0.33      0.17        12\n",
      "\n"
     ]
    },
    {
     "name": "stderr",
     "output_type": "stream",
     "text": [
      "/usr/local/lib/python3.9/site-packages/sklearn/metrics/_classification.py:1248: UndefinedMetricWarning: Precision and F-score are ill-defined and being set to 0.0 in labels with no predicted samples. Use `zero_division` parameter to control this behavior.\n",
      "  _warn_prf(average, modifier, msg_start, len(result))\n",
      "/usr/local/lib/python3.9/site-packages/sklearn/metrics/_classification.py:1248: UndefinedMetricWarning: Precision and F-score are ill-defined and being set to 0.0 in labels with no predicted samples. Use `zero_division` parameter to control this behavior.\n",
      "  _warn_prf(average, modifier, msg_start, len(result))\n",
      "/usr/local/lib/python3.9/site-packages/sklearn/metrics/_classification.py:1248: UndefinedMetricWarning: Precision and F-score are ill-defined and being set to 0.0 in labels with no predicted samples. Use `zero_division` parameter to control this behavior.\n",
      "  _warn_prf(average, modifier, msg_start, len(result))\n"
     ]
    },
    {
     "data": {
      "image/png": "[encoded data removed]",
      "text/plain": [
       "<Figure size 360x360 with 1 Axes>"
      ]
     },
     "metadata": {
      "needs_background": "light"
     },
     "output_type": "display_data"
    },
    {
     "name": "stdout",
     "output_type": "stream",
     "text": [
      "Running Time:  39.36114277399997\n",
      "colon + IG Orde 2 v2\n",
      "Y_Train : [1 0 1 0 1 0 1 0 1 0 1 0 1 0 1 0 1 0 1 1 0 1 0 1 1 1 1 1 1 1 0 1 1 0 0 1 1\n",
      " 1 0 1 0 0 1 1 1 1 1 1 1 0]\n",
      "Y_Test : [0 1 1 1 1 1 1 1 1 0 0 0]\n",
      "Akurasi :  0.6666666666666666\n",
      "F1_Score :  0.4\n",
      "              precision    recall  f1-score   support\n",
      "\n",
      "           0       0.00      0.00      0.00         4\n",
      "           1       0.67      1.00      0.80         8\n",
      "\n",
      "    accuracy                           0.67        12\n",
      "   macro avg       0.33      0.50      0.40        12\n",
      "weighted avg       0.44      0.67      0.53        12\n",
      "\n"
     ]
    },
    {
     "name": "stderr",
     "output_type": "stream",
     "text": [
      "/usr/local/lib/python3.9/site-packages/sklearn/metrics/_classification.py:1248: UndefinedMetricWarning: Precision and F-score are ill-defined and being set to 0.0 in labels with no predicted samples. Use `zero_division` parameter to control this behavior.\n",
      "  _warn_prf(average, modifier, msg_start, len(result))\n",
      "/usr/local/lib/python3.9/site-packages/sklearn/metrics/_classification.py:1248: UndefinedMetricWarning: Precision and F-score are ill-defined and being set to 0.0 in labels with no predicted samples. Use `zero_division` parameter to control this behavior.\n",
      "  _warn_prf(average, modifier, msg_start, len(result))\n",
      "/usr/local/lib/python3.9/site-packages/sklearn/metrics/_classification.py:1248: UndefinedMetricWarning: Precision and F-score are ill-defined and being set to 0.0 in labels with no predicted samples. Use `zero_division` parameter to control this behavior.\n",
      "  _warn_prf(average, modifier, msg_start, len(result))\n"
     ]
    },
    {
     "data": {
      "image/png": "[encoded data removed]",
      "text/plain": [
       "<Figure size 360x360 with 1 Axes>"
      ]
     },
     "metadata": {
      "needs_background": "light"
     },
     "output_type": "display_data"
    },
    {
     "name": "stdout",
     "output_type": "stream",
     "text": [
      "Running Time:  10.57450594100004\n",
      "colon + IG Orde 3 v2\n",
      "Y_Train : [1 0 1 0 1 0 1 0 1 0 1 0 1 0 1 0 1 0 1 1 0 1 0 1 1 1 1 1 1 1 0 1 1 0 0 1 1\n",
      " 1 0 1 0 0 1 1 1 1 1 1 1 0]\n",
      "Y_Test : [0 1 1 1 1 1 1 1 1 0 0 0]\n",
      "Akurasi :  0.6666666666666666\n",
      "F1_Score :  0.4\n",
      "              precision    recall  f1-score   support\n",
      "\n",
      "           0       0.00      0.00      0.00         4\n",
      "           1       0.67      1.00      0.80         8\n",
      "\n",
      "    accuracy                           0.67        12\n",
      "   macro avg       0.33      0.50      0.40        12\n",
      "weighted avg       0.44      0.67      0.53        12\n",
      "\n"
     ]
    },
    {
     "name": "stderr",
     "output_type": "stream",
     "text": [
      "/usr/local/lib/python3.9/site-packages/sklearn/metrics/_classification.py:1248: UndefinedMetricWarning: Precision and F-score are ill-defined and being set to 0.0 in labels with no predicted samples. Use `zero_division` parameter to control this behavior.\n",
      "  _warn_prf(average, modifier, msg_start, len(result))\n",
      "/usr/local/lib/python3.9/site-packages/sklearn/metrics/_classification.py:1248: UndefinedMetricWarning: Precision and F-score are ill-defined and being set to 0.0 in labels with no predicted samples. Use `zero_division` parameter to control this behavior.\n",
      "  _warn_prf(average, modifier, msg_start, len(result))\n",
      "/usr/local/lib/python3.9/site-packages/sklearn/metrics/_classification.py:1248: UndefinedMetricWarning: Precision and F-score are ill-defined and being set to 0.0 in labels with no predicted samples. Use `zero_division` parameter to control this behavior.\n",
      "  _warn_prf(average, modifier, msg_start, len(result))\n"
     ]
    },
    {
     "data": {
      "image/png": "[encoded data removed]",
      "text/plain": [
       "<Figure size 360x360 with 1 Axes>"
      ]
     },
     "metadata": {
      "needs_background": "light"
     },
     "output_type": "display_data"
    },
    {
     "name": "stdout",
     "output_type": "stream",
     "text": [
      "Running Time:  24.244393942000045\n",
      "colon + IG Orde 4 v1\n",
      "Y_Train : [1 0 1 0 1 0 1 0 1 0 1 0 1 0 1 0 1 0 1 1 0 1 0 1 1 1 1 1 1 1 0 1 1 0 0 1 1\n",
      " 1 0 1 0 0 1 1 1 1 1 1 1 0]\n",
      "Y_Test : [0 1 1 1 1 1 1 1 1 0 0 0]\n",
      "Akurasi :  0.6666666666666666\n",
      "F1_Score :  0.4\n",
      "              precision    recall  f1-score   support\n",
      "\n",
      "           0       0.00      0.00      0.00         4\n",
      "           1       0.67      1.00      0.80         8\n",
      "\n",
      "    accuracy                           0.67        12\n",
      "   macro avg       0.33      0.50      0.40        12\n",
      "weighted avg       0.44      0.67      0.53        12\n",
      "\n"
     ]
    },
    {
     "name": "stderr",
     "output_type": "stream",
     "text": [
      "/usr/local/lib/python3.9/site-packages/sklearn/metrics/_classification.py:1248: UndefinedMetricWarning: Precision and F-score are ill-defined and being set to 0.0 in labels with no predicted samples. Use `zero_division` parameter to control this behavior.\n",
      "  _warn_prf(average, modifier, msg_start, len(result))\n",
      "/usr/local/lib/python3.9/site-packages/sklearn/metrics/_classification.py:1248: UndefinedMetricWarning: Precision and F-score are ill-defined and being set to 0.0 in labels with no predicted samples. Use `zero_division` parameter to control this behavior.\n",
      "  _warn_prf(average, modifier, msg_start, len(result))\n",
      "/usr/local/lib/python3.9/site-packages/sklearn/metrics/_classification.py:1248: UndefinedMetricWarning: Precision and F-score are ill-defined and being set to 0.0 in labels with no predicted samples. Use `zero_division` parameter to control this behavior.\n",
      "  _warn_prf(average, modifier, msg_start, len(result))\n"
     ]
    },
    {
     "data": {
      "image/png": "[encoded data removed]",
      "text/plain": [
       "<Figure size 360x360 with 1 Axes>"
      ]
     },
     "metadata": {
      "needs_background": "light"
     },
     "output_type": "display_data"
    },
    {
     "name": "stdout",
     "output_type": "stream",
     "text": [
      "Running Time:  42.352916069\n",
      "Train :  [ 0  1  3  4  5  8  9 10 12 15 17 18 19 20 21 22 23 24 25 26 27 28 29 30\n",
      " 31 32 33 34 35 36 37 38 39 40 41 42 43 44 46 47 48 50 53 54 56 57 58 59\n",
      " 60 61] Test :  [ 2  6  7 11 13 14 16 45 49 51 52 55]\n",
      "colon + IG Orde 2 v1\n",
      "Y_Train : [1 0 0 1 0 1 0 1 1 0 0 1 0 1 0 1 0 1 1 1 1 1 1 1 1 1 1 1 1 1 1 0 1 1 0 0 1\n",
      " 1 1 0 1 0 0 0 1 1 1 0 1 0]\n",
      "Y_Test : [1 1 0 0 0 1 1 1 0 1 1 1]\n",
      "Akurasi :  0.6666666666666666\n",
      "F1_Score :  0.4\n",
      "              precision    recall  f1-score   support\n",
      "\n",
      "           0       0.00      0.00      0.00         4\n",
      "           1       0.67      1.00      0.80         8\n",
      "\n",
      "    accuracy                           0.67        12\n",
      "   macro avg       0.33      0.50      0.40        12\n",
      "weighted avg       0.44      0.67      0.53        12\n",
      "\n"
     ]
    },
    {
     "name": "stderr",
     "output_type": "stream",
     "text": [
      "/usr/local/lib/python3.9/site-packages/sklearn/metrics/_classification.py:1248: UndefinedMetricWarning: Precision and F-score are ill-defined and being set to 0.0 in labels with no predicted samples. Use `zero_division` parameter to control this behavior.\n",
      "  _warn_prf(average, modifier, msg_start, len(result))\n",
      "/usr/local/lib/python3.9/site-packages/sklearn/metrics/_classification.py:1248: UndefinedMetricWarning: Precision and F-score are ill-defined and being set to 0.0 in labels with no predicted samples. Use `zero_division` parameter to control this behavior.\n",
      "  _warn_prf(average, modifier, msg_start, len(result))\n",
      "/usr/local/lib/python3.9/site-packages/sklearn/metrics/_classification.py:1248: UndefinedMetricWarning: Precision and F-score are ill-defined and being set to 0.0 in labels with no predicted samples. Use `zero_division` parameter to control this behavior.\n",
      "  _warn_prf(average, modifier, msg_start, len(result))\n"
     ]
    },
    {
     "data": {
      "image/png": "[encoded data removed]",
      "text/plain": [
       "<Figure size 360x360 with 1 Axes>"
      ]
     },
     "metadata": {
      "needs_background": "light"
     },
     "output_type": "display_data"
    },
    {
     "name": "stdout",
     "output_type": "stream",
     "text": [
      "Running Time:  10.74122207299996\n",
      "colon + IG Orde 3 v1\n",
      "Y_Train : [1 0 0 1 0 1 0 1 1 0 0 1 0 1 0 1 0 1 1 1 1 1 1 1 1 1 1 1 1 1 1 0 1 1 0 0 1\n",
      " 1 1 0 1 0 0 0 1 1 1 0 1 0]\n",
      "Y_Test : [1 1 0 0 0 1 1 1 0 1 1 1]\n",
      "Akurasi :  0.3333333333333333\n",
      "F1_Score :  0.25\n",
      "              precision    recall  f1-score   support\n",
      "\n",
      "           0       0.33      1.00      0.50         4\n",
      "           1       0.00      0.00      0.00         8\n",
      "\n",
      "    accuracy                           0.33        12\n",
      "   macro avg       0.17      0.50      0.25        12\n",
      "weighted avg       0.11      0.33      0.17        12\n",
      "\n"
     ]
    },
    {
     "name": "stderr",
     "output_type": "stream",
     "text": [
      "/usr/local/lib/python3.9/site-packages/sklearn/metrics/_classification.py:1248: UndefinedMetricWarning: Precision and F-score are ill-defined and being set to 0.0 in labels with no predicted samples. Use `zero_division` parameter to control this behavior.\n",
      "  _warn_prf(average, modifier, msg_start, len(result))\n",
      "/usr/local/lib/python3.9/site-packages/sklearn/metrics/_classification.py:1248: UndefinedMetricWarning: Precision and F-score are ill-defined and being set to 0.0 in labels with no predicted samples. Use `zero_division` parameter to control this behavior.\n",
      "  _warn_prf(average, modifier, msg_start, len(result))\n",
      "/usr/local/lib/python3.9/site-packages/sklearn/metrics/_classification.py:1248: UndefinedMetricWarning: Precision and F-score are ill-defined and being set to 0.0 in labels with no predicted samples. Use `zero_division` parameter to control this behavior.\n",
      "  _warn_prf(average, modifier, msg_start, len(result))\n"
     ]
    },
    {
     "data": {
      "image/png": "[encoded data removed]",
      "text/plain": [
       "<Figure size 360x360 with 1 Axes>"
      ]
     },
     "metadata": {
      "needs_background": "light"
     },
     "output_type": "display_data"
    },
    {
     "name": "stdout",
     "output_type": "stream",
     "text": [
      "Running Time:  24.891733412000008\n",
      "colon + IG Orde 4 v1\n",
      "Y_Train : [1 0 0 1 0 1 0 1 1 0 0 1 0 1 0 1 0 1 1 1 1 1 1 1 1 1 1 1 1 1 1 0 1 1 0 0 1\n",
      " 1 1 0 1 0 0 0 1 1 1 0 1 0]\n",
      "Y_Test : [1 1 0 0 0 1 1 1 0 1 1 1]\n",
      "Akurasi :  0.3333333333333333\n",
      "F1_Score :  0.25\n",
      "              precision    recall  f1-score   support\n",
      "\n",
      "           0       0.33      1.00      0.50         4\n",
      "           1       0.00      0.00      0.00         8\n",
      "\n",
      "    accuracy                           0.33        12\n",
      "   macro avg       0.17      0.50      0.25        12\n",
      "weighted avg       0.11      0.33      0.17        12\n",
      "\n"
     ]
    },
    {
     "name": "stderr",
     "output_type": "stream",
     "text": [
      "/usr/local/lib/python3.9/site-packages/sklearn/metrics/_classification.py:1248: UndefinedMetricWarning: Precision and F-score are ill-defined and being set to 0.0 in labels with no predicted samples. Use `zero_division` parameter to control this behavior.\n",
      "  _warn_prf(average, modifier, msg_start, len(result))\n",
      "/usr/local/lib/python3.9/site-packages/sklearn/metrics/_classification.py:1248: UndefinedMetricWarning: Precision and F-score are ill-defined and being set to 0.0 in labels with no predicted samples. Use `zero_division` parameter to control this behavior.\n",
      "  _warn_prf(average, modifier, msg_start, len(result))\n",
      "/usr/local/lib/python3.9/site-packages/sklearn/metrics/_classification.py:1248: UndefinedMetricWarning: Precision and F-score are ill-defined and being set to 0.0 in labels with no predicted samples. Use `zero_division` parameter to control this behavior.\n",
      "  _warn_prf(average, modifier, msg_start, len(result))\n"
     ]
    },
    {
     "data": {
      "image/png": "[encoded data removed]",
      "text/plain": [
       "<Figure size 360x360 with 1 Axes>"
      ]
     },
     "metadata": {
      "needs_background": "light"
     },
     "output_type": "display_data"
    },
    {
     "name": "stdout",
     "output_type": "stream",
     "text": [
      "Running Time:  43.831678229999966\n",
      "colon + IG Orde 2 v2\n",
      "Y_Train : [1 0 0 1 0 1 0 1 1 0 0 1 0 1 0 1 0 1 1 1 1 1 1 1 1 1 1 1 1 1 1 0 1 1 0 0 1\n",
      " 1 1 0 1 0 0 0 1 1 1 0 1 0]\n",
      "Y_Test : [1 1 0 0 0 1 1 1 0 1 1 1]\n",
      "Akurasi :  0.6666666666666666\n",
      "F1_Score :  0.4\n",
      "              precision    recall  f1-score   support\n",
      "\n",
      "           0       0.00      0.00      0.00         4\n",
      "           1       0.67      1.00      0.80         8\n",
      "\n",
      "    accuracy                           0.67        12\n",
      "   macro avg       0.33      0.50      0.40        12\n",
      "weighted avg       0.44      0.67      0.53        12\n",
      "\n"
     ]
    },
    {
     "name": "stderr",
     "output_type": "stream",
     "text": [
      "/usr/local/lib/python3.9/site-packages/sklearn/metrics/_classification.py:1248: UndefinedMetricWarning: Precision and F-score are ill-defined and being set to 0.0 in labels with no predicted samples. Use `zero_division` parameter to control this behavior.\n",
      "  _warn_prf(average, modifier, msg_start, len(result))\n",
      "/usr/local/lib/python3.9/site-packages/sklearn/metrics/_classification.py:1248: UndefinedMetricWarning: Precision and F-score are ill-defined and being set to 0.0 in labels with no predicted samples. Use `zero_division` parameter to control this behavior.\n",
      "  _warn_prf(average, modifier, msg_start, len(result))\n",
      "/usr/local/lib/python3.9/site-packages/sklearn/metrics/_classification.py:1248: UndefinedMetricWarning: Precision and F-score are ill-defined and being set to 0.0 in labels with no predicted samples. Use `zero_division` parameter to control this behavior.\n",
      "  _warn_prf(average, modifier, msg_start, len(result))\n"
     ]
    },
    {
     "data": {
      "image/png": "[encoded data removed]",
      "text/plain": [
       "<Figure size 360x360 with 1 Axes>"
      ]
     },
     "metadata": {
      "needs_background": "light"
     },
     "output_type": "display_data"
    },
    {
     "name": "stdout",
     "output_type": "stream",
     "text": [
      "Running Time:  11.963942342999985\n",
      "colon + IG Orde 3 v2\n",
      "Y_Train : [1 0 0 1 0 1 0 1 1 0 0 1 0 1 0 1 0 1 1 1 1 1 1 1 1 1 1 1 1 1 1 0 1 1 0 0 1\n",
      " 1 1 0 1 0 0 0 1 1 1 0 1 0]\n",
      "Y_Test : [1 1 0 0 0 1 1 1 0 1 1 1]\n",
      "Akurasi :  0.6666666666666666\n",
      "F1_Score :  0.4\n",
      "              precision    recall  f1-score   support\n",
      "\n",
      "           0       0.00      0.00      0.00         4\n",
      "           1       0.67      1.00      0.80         8\n",
      "\n",
      "    accuracy                           0.67        12\n",
      "   macro avg       0.33      0.50      0.40        12\n",
      "weighted avg       0.44      0.67      0.53        12\n",
      "\n"
     ]
    },
    {
     "name": "stderr",
     "output_type": "stream",
     "text": [
      "/usr/local/lib/python3.9/site-packages/sklearn/metrics/_classification.py:1248: UndefinedMetricWarning: Precision and F-score are ill-defined and being set to 0.0 in labels with no predicted samples. Use `zero_division` parameter to control this behavior.\n",
      "  _warn_prf(average, modifier, msg_start, len(result))\n",
      "/usr/local/lib/python3.9/site-packages/sklearn/metrics/_classification.py:1248: UndefinedMetricWarning: Precision and F-score are ill-defined and being set to 0.0 in labels with no predicted samples. Use `zero_division` parameter to control this behavior.\n",
      "  _warn_prf(average, modifier, msg_start, len(result))\n",
      "/usr/local/lib/python3.9/site-packages/sklearn/metrics/_classification.py:1248: UndefinedMetricWarning: Precision and F-score are ill-defined and being set to 0.0 in labels with no predicted samples. Use `zero_division` parameter to control this behavior.\n",
      "  _warn_prf(average, modifier, msg_start, len(result))\n"
     ]
    },
    {
     "data": {
      "image/png": "[encoded data removed]",
      "text/plain": [
       "<Figure size 360x360 with 1 Axes>"
      ]
     },
     "metadata": {
      "needs_background": "light"
     },
     "output_type": "display_data"
    },
    {
     "name": "stdout",
     "output_type": "stream",
     "text": [
      "Running Time:  23.705764117000058\n",
      "colon + IG Orde 4 v1\n",
      "Y_Train : [1 0 0 1 0 1 0 1 1 0 0 1 0 1 0 1 0 1 1 1 1 1 1 1 1 1 1 1 1 1 1 0 1 1 0 0 1\n",
      " 1 1 0 1 0 0 0 1 1 1 0 1 0]\n",
      "Y_Test : [1 1 0 0 0 1 1 1 0 1 1 1]\n",
      "Akurasi :  0.6666666666666666\n",
      "F1_Score :  0.4\n",
      "              precision    recall  f1-score   support\n",
      "\n",
      "           0       0.00      0.00      0.00         4\n",
      "           1       0.67      1.00      0.80         8\n",
      "\n",
      "    accuracy                           0.67        12\n",
      "   macro avg       0.33      0.50      0.40        12\n",
      "weighted avg       0.44      0.67      0.53        12\n",
      "\n"
     ]
    },
    {
     "name": "stderr",
     "output_type": "stream",
     "text": [
      "/usr/local/lib/python3.9/site-packages/sklearn/metrics/_classification.py:1248: UndefinedMetricWarning: Precision and F-score are ill-defined and being set to 0.0 in labels with no predicted samples. Use `zero_division` parameter to control this behavior.\n",
      "  _warn_prf(average, modifier, msg_start, len(result))\n",
      "/usr/local/lib/python3.9/site-packages/sklearn/metrics/_classification.py:1248: UndefinedMetricWarning: Precision and F-score are ill-defined and being set to 0.0 in labels with no predicted samples. Use `zero_division` parameter to control this behavior.\n",
      "  _warn_prf(average, modifier, msg_start, len(result))\n",
      "/usr/local/lib/python3.9/site-packages/sklearn/metrics/_classification.py:1248: UndefinedMetricWarning: Precision and F-score are ill-defined and being set to 0.0 in labels with no predicted samples. Use `zero_division` parameter to control this behavior.\n",
      "  _warn_prf(average, modifier, msg_start, len(result))\n"
     ]
    },
    {
     "data": {
      "image/png": "[encoded data removed]",
      "text/plain": [
       "<Figure size 360x360 with 1 Axes>"
      ]
     },
     "metadata": {
      "needs_background": "light"
     },
     "output_type": "display_data"
    },
    {
     "name": "stdout",
     "output_type": "stream",
     "text": [
      "Running Time:  38.92591757900004\n",
      "Train :  [ 0  2  3  6  7  8  9 10 11 12 13 14 15 16 18 19 20 21 22 23 24 25 26 28\n",
      " 29 30 32 33 34 35 36 38 39 41 42 44 45 46 47 49 50 51 52 53 54 55 56 57\n",
      " 59 60] Test :  [ 1  4  5 17 27 31 37 40 43 48 58 61]\n",
      "colon + IG Orde 2 v1\n",
      "Y_Train : [1 1 0 1 0 1 0 1 0 1 0 1 0 1 1 0 1 0 1 0 1 1 1 1 1 1 1 1 1 1 1 0 1 0 0 1 1\n",
      " 1 0 0 0 1 1 0 0 1 1 1 0 1]\n",
      "Y_Test : [0 1 0 0 1 1 1 1 1 1 1 0]\n",
      "Akurasi :  0.6666666666666666\n",
      "F1_Score :  0.4\n",
      "              precision    recall  f1-score   support\n",
      "\n",
      "           0       0.00      0.00      0.00         4\n",
      "           1       0.67      1.00      0.80         8\n",
      "\n",
      "    accuracy                           0.67        12\n",
      "   macro avg       0.33      0.50      0.40        12\n",
      "weighted avg       0.44      0.67      0.53        12\n",
      "\n"
     ]
    },
    {
     "name": "stderr",
     "output_type": "stream",
     "text": [
      "/usr/local/lib/python3.9/site-packages/sklearn/metrics/_classification.py:1248: UndefinedMetricWarning: Precision and F-score are ill-defined and being set to 0.0 in labels with no predicted samples. Use `zero_division` parameter to control this behavior.\n",
      "  _warn_prf(average, modifier, msg_start, len(result))\n",
      "/usr/local/lib/python3.9/site-packages/sklearn/metrics/_classification.py:1248: UndefinedMetricWarning: Precision and F-score are ill-defined and being set to 0.0 in labels with no predicted samples. Use `zero_division` parameter to control this behavior.\n",
      "  _warn_prf(average, modifier, msg_start, len(result))\n",
      "/usr/local/lib/python3.9/site-packages/sklearn/metrics/_classification.py:1248: UndefinedMetricWarning: Precision and F-score are ill-defined and being set to 0.0 in labels with no predicted samples. Use `zero_division` parameter to control this behavior.\n",
      "  _warn_prf(average, modifier, msg_start, len(result))\n"
     ]
    },
    {
     "data": {
      "image/png": "[encoded data removed]",
      "text/plain": [
       "<Figure size 360x360 with 1 Axes>"
      ]
     },
     "metadata": {
      "needs_background": "light"
     },
     "output_type": "display_data"
    },
    {
     "name": "stdout",
     "output_type": "stream",
     "text": [
      "Running Time:  10.60811950099992\n",
      "colon + IG Orde 3 v1\n",
      "Y_Train : [1 1 0 1 0 1 0 1 0 1 0 1 0 1 1 0 1 0 1 0 1 1 1 1 1 1 1 1 1 1 1 0 1 0 0 1 1\n",
      " 1 0 0 0 1 1 0 0 1 1 1 0 1]\n",
      "Y_Test : [0 1 0 0 1 1 1 1 1 1 1 0]\n",
      "Akurasi :  0.3333333333333333\n",
      "F1_Score :  0.25\n",
      "              precision    recall  f1-score   support\n",
      "\n",
      "           0       0.33      1.00      0.50         4\n",
      "           1       0.00      0.00      0.00         8\n",
      "\n",
      "    accuracy                           0.33        12\n",
      "   macro avg       0.17      0.50      0.25        12\n",
      "weighted avg       0.11      0.33      0.17        12\n",
      "\n"
     ]
    },
    {
     "name": "stderr",
     "output_type": "stream",
     "text": [
      "/usr/local/lib/python3.9/site-packages/sklearn/metrics/_classification.py:1248: UndefinedMetricWarning: Precision and F-score are ill-defined and being set to 0.0 in labels with no predicted samples. Use `zero_division` parameter to control this behavior.\n",
      "  _warn_prf(average, modifier, msg_start, len(result))\n",
      "/usr/local/lib/python3.9/site-packages/sklearn/metrics/_classification.py:1248: UndefinedMetricWarning: Precision and F-score are ill-defined and being set to 0.0 in labels with no predicted samples. Use `zero_division` parameter to control this behavior.\n",
      "  _warn_prf(average, modifier, msg_start, len(result))\n",
      "/usr/local/lib/python3.9/site-packages/sklearn/metrics/_classification.py:1248: UndefinedMetricWarning: Precision and F-score are ill-defined and being set to 0.0 in labels with no predicted samples. Use `zero_division` parameter to control this behavior.\n",
      "  _warn_prf(average, modifier, msg_start, len(result))\n"
     ]
    },
    {
     "data": {
      "image/png": "[encoded data removed]",
      "text/plain": [
       "<Figure size 360x360 with 1 Axes>"
      ]
     },
     "metadata": {
      "needs_background": "light"
     },
     "output_type": "display_data"
    },
    {
     "name": "stdout",
     "output_type": "stream",
     "text": [
      "Running Time:  41.991680939999924\n",
      "colon + IG Orde 4 v1\n",
      "Y_Train : [1 1 0 1 0 1 0 1 0 1 0 1 0 1 1 0 1 0 1 0 1 1 1 1 1 1 1 1 1 1 1 0 1 0 0 1 1\n",
      " 1 0 0 0 1 1 0 0 1 1 1 0 1]\n",
      "Y_Test : [0 1 0 0 1 1 1 1 1 1 1 0]\n",
      "Akurasi :  0.3333333333333333\n",
      "F1_Score :  0.25\n",
      "              precision    recall  f1-score   support\n",
      "\n",
      "           0       0.33      1.00      0.50         4\n",
      "           1       0.00      0.00      0.00         8\n",
      "\n",
      "    accuracy                           0.33        12\n",
      "   macro avg       0.17      0.50      0.25        12\n",
      "weighted avg       0.11      0.33      0.17        12\n",
      "\n"
     ]
    },
    {
     "name": "stderr",
     "output_type": "stream",
     "text": [
      "/usr/local/lib/python3.9/site-packages/sklearn/metrics/_classification.py:1248: UndefinedMetricWarning: Precision and F-score are ill-defined and being set to 0.0 in labels with no predicted samples. Use `zero_division` parameter to control this behavior.\n",
      "  _warn_prf(average, modifier, msg_start, len(result))\n",
      "/usr/local/lib/python3.9/site-packages/sklearn/metrics/_classification.py:1248: UndefinedMetricWarning: Precision and F-score are ill-defined and being set to 0.0 in labels with no predicted samples. Use `zero_division` parameter to control this behavior.\n",
      "  _warn_prf(average, modifier, msg_start, len(result))\n",
      "/usr/local/lib/python3.9/site-packages/sklearn/metrics/_classification.py:1248: UndefinedMetricWarning: Precision and F-score are ill-defined and being set to 0.0 in labels with no predicted samples. Use `zero_division` parameter to control this behavior.\n",
      "  _warn_prf(average, modifier, msg_start, len(result))\n"
     ]
    },
    {
     "data": {
      "image/png": "[encoded data removed]",
      "text/plain": [
       "<Figure size 360x360 with 1 Axes>"
      ]
     },
     "metadata": {
      "needs_background": "light"
     },
     "output_type": "display_data"
    },
    {
     "name": "stdout",
     "output_type": "stream",
     "text": [
      "Running Time:  50.15768320099994\n",
      "colon + IG Orde 2 v2\n",
      "Y_Train : [1 1 0 1 0 1 0 1 0 1 0 1 0 1 1 0 1 0 1 0 1 1 1 1 1 1 1 1 1 1 1 0 1 0 0 1 1\n",
      " 1 0 0 0 1 1 0 0 1 1 1 0 1]\n",
      "Y_Test : [0 1 0 0 1 1 1 1 1 1 1 0]\n",
      "Akurasi :  0.5\n",
      "F1_Score :  0.48571428571428577\n",
      "              precision    recall  f1-score   support\n",
      "\n",
      "           0       0.40      1.00      0.57         4\n",
      "           1       1.00      0.25      0.40         8\n",
      "\n",
      "    accuracy                           0.50        12\n",
      "   macro avg       0.70      0.62      0.49        12\n",
      "weighted avg       0.80      0.50      0.46        12\n",
      "\n"
     ]
    },
    {
     "data": {
      "image/png": "[encoded data removed]",
      "text/plain": [
       "<Figure size 360x360 with 1 Axes>"
      ]
     },
     "metadata": {
      "needs_background": "light"
     },
     "output_type": "display_data"
    },
    {
     "name": "stdout",
     "output_type": "stream",
     "text": [
      "Running Time:  11.447645535999982\n",
      "colon + IG Orde 3 v2\n",
      "Y_Train : [1 1 0 1 0 1 0 1 0 1 0 1 0 1 1 0 1 0 1 0 1 1 1 1 1 1 1 1 1 1 1 0 1 0 0 1 1\n",
      " 1 0 0 0 1 1 0 0 1 1 1 0 1]\n",
      "Y_Test : [0 1 0 0 1 1 1 1 1 1 1 0]\n",
      "Akurasi :  0.6666666666666666\n",
      "F1_Score :  0.4\n",
      "              precision    recall  f1-score   support\n",
      "\n",
      "           0       0.00      0.00      0.00         4\n",
      "           1       0.67      1.00      0.80         8\n",
      "\n",
      "    accuracy                           0.67        12\n",
      "   macro avg       0.33      0.50      0.40        12\n",
      "weighted avg       0.44      0.67      0.53        12\n",
      "\n"
     ]
    },
    {
     "name": "stderr",
     "output_type": "stream",
     "text": [
      "/usr/local/lib/python3.9/site-packages/sklearn/metrics/_classification.py:1248: UndefinedMetricWarning: Precision and F-score are ill-defined and being set to 0.0 in labels with no predicted samples. Use `zero_division` parameter to control this behavior.\n",
      "  _warn_prf(average, modifier, msg_start, len(result))\n",
      "/usr/local/lib/python3.9/site-packages/sklearn/metrics/_classification.py:1248: UndefinedMetricWarning: Precision and F-score are ill-defined and being set to 0.0 in labels with no predicted samples. Use `zero_division` parameter to control this behavior.\n",
      "  _warn_prf(average, modifier, msg_start, len(result))\n",
      "/usr/local/lib/python3.9/site-packages/sklearn/metrics/_classification.py:1248: UndefinedMetricWarning: Precision and F-score are ill-defined and being set to 0.0 in labels with no predicted samples. Use `zero_division` parameter to control this behavior.\n",
      "  _warn_prf(average, modifier, msg_start, len(result))\n"
     ]
    },
    {
     "data": {
      "image/png": "[encoded data removed]",
      "text/plain": [
       "<Figure size 360x360 with 1 Axes>"
      ]
     },
     "metadata": {
      "needs_background": "light"
     },
     "output_type": "display_data"
    },
    {
     "name": "stdout",
     "output_type": "stream",
     "text": [
      "Running Time:  29.499386595000033\n",
      "colon + IG Orde 4 v1\n",
      "Y_Train : [1 1 0 1 0 1 0 1 0 1 0 1 0 1 1 0 1 0 1 0 1 1 1 1 1 1 1 1 1 1 1 0 1 0 0 1 1\n",
      " 1 0 0 0 1 1 0 0 1 1 1 0 1]\n",
      "Y_Test : [0 1 0 0 1 1 1 1 1 1 1 0]\n",
      "Akurasi :  0.3333333333333333\n",
      "F1_Score :  0.25\n",
      "              precision    recall  f1-score   support\n",
      "\n",
      "           0       0.33      1.00      0.50         4\n",
      "           1       0.00      0.00      0.00         8\n",
      "\n",
      "    accuracy                           0.33        12\n",
      "   macro avg       0.17      0.50      0.25        12\n",
      "weighted avg       0.11      0.33      0.17        12\n",
      "\n"
     ]
    },
    {
     "name": "stderr",
     "output_type": "stream",
     "text": [
      "/usr/local/lib/python3.9/site-packages/sklearn/metrics/_classification.py:1248: UndefinedMetricWarning: Precision and F-score are ill-defined and being set to 0.0 in labels with no predicted samples. Use `zero_division` parameter to control this behavior.\n",
      "  _warn_prf(average, modifier, msg_start, len(result))\n",
      "/usr/local/lib/python3.9/site-packages/sklearn/metrics/_classification.py:1248: UndefinedMetricWarning: Precision and F-score are ill-defined and being set to 0.0 in labels with no predicted samples. Use `zero_division` parameter to control this behavior.\n",
      "  _warn_prf(average, modifier, msg_start, len(result))\n",
      "/usr/local/lib/python3.9/site-packages/sklearn/metrics/_classification.py:1248: UndefinedMetricWarning: Precision and F-score are ill-defined and being set to 0.0 in labels with no predicted samples. Use `zero_division` parameter to control this behavior.\n",
      "  _warn_prf(average, modifier, msg_start, len(result))\n"
     ]
    },
    {
     "data": {
      "image/png": "[encoded data removed]",
      "text/plain": [
       "<Figure size 360x360 with 1 Axes>"
      ]
     },
     "metadata": {
      "needs_background": "light"
     },
     "output_type": "display_data"
    },
    {
     "name": "stdout",
     "output_type": "stream",
     "text": [
      "Running Time:  83.0400267519999\n",
      "===============================================================================================================================================================================================================\n",
      "Avg accuracy colon cancer + IG orde 2 v1 :  0.6448717948717948\n",
      "Avg F1 score colon cancer + IG orde 2 v1 :  0.43765246449456974\n",
      "Avg running time colon cancer + IG orde 2 v1 :  11.464365766199975\n",
      "Avg accuracy colon cancer + IG orde 3 v1 :  0.5294871794871796\n",
      "Avg F1 score colon cancer + IG orde 3 v1 :  0.39187675070028016\n",
      "Avg running time colon cancer + IG orde 3 v1 :  29.583639694199984\n",
      "Avg accuracy colon cancer + IG orde 4 v1 :  0.39999999999999997\n",
      "Avg F1 score colon cancer + IG orde 4 v1 :  0.28174603174603174\n",
      "Avg running time colon cancer + IG orde 4 v1 :  44.114027938399985\n",
      "===============================================================================================================================================================================================================\n",
      "Avg accuracy colon cancer + IG orde 2 v2 :  0.5358974358974359\n",
      "Avg F1 score colon cancer + IG orde 2 v2 :  0.37857142857142856\n",
      "Avg running time colon cancer + IG orde 2 v2 :  11.806598677600007\n",
      "Avg accuracy colon cancer + IG orde 3 v2 :  0.5999999999999999\n",
      "Avg F1 score colon cancer + IG orde 3 v2 :  0.37174603174603177\n",
      "Avg running time colon cancer + IG orde 3 v2 :  27.471732010000018\n",
      "Avg accuracy colon cancer + IG orde 4 v2 :  0.5794871794871794\n",
      "Avg F1 score colon cancer + IG orde 4 v2 :  0.3623809523809524\n",
      "Avg running time colon cancer + IG orde 4 v2 :  50.46671750459999\n",
      "\n",
      "Overall Running Time :  874.772532202\n"
     ]
    }
   ],
   "source": [
    "start = timeit.default_timer()\n",
    "akurasi_IG_2_v1,f1_IG_2_v1,rt_IG_2_v1 = [],[],[]\n",
    "akurasi_IG_3_v1,f1_IG_3_v1,rt_IG_3_v1 = [],[],[]\n",
    "akurasi_IG_4_v1,f1_IG_4_v1,rt_IG_4_v1 = [],[],[]\n",
    "\n",
    "akurasi_IG_2_v2,f1_IG_2_v2,rt_IG_2_v2 = [],[],[]\n",
    "akurasi_IG_3_v2,f1_IG_3_v2,rt_IG_3_v2 = [],[],[]\n",
    "akurasi_IG_4_v2,f1_IG_4_v2,rt_IG_4_v2 = [],[],[]\n",
    "\n",
    "#Melakukan proses K-Fold\n",
    "kf = StratifiedKFold(n_splits=5, shuffle=True, random_state=10)\n",
    "kf.get_n_splits(data_new_colon)\n",
    "X = data_new_colon.copy().iloc[:, 0:len(data_new_colon.columns)-1].values\n",
    "Y = data_new_colon.copy().iloc[:, len(data_new_colon.columns)-1].values\n",
    "for train_index, test_index in kf.split(X,Y):\n",
    "    print(\"Train : \", train_index, \"Test : \", test_index)\n",
    "    data_train, data_test, y_train, y_test = pd.DataFrame(X[train_index]), pd.DataFrame(X[test_index]), Y[train_index], Y[test_index]\n",
    "    data_train['label'] = y_train\n",
    "    data_test['label'] = y_test\n",
    "    \n",
    "    print(\"colon Orde 2 v1\")\n",
    "    acc,f1,rt = FLNN_Classifier(data_train.copy(), data_test.copy(), 2, 0.6)\n",
    "    akurasi_IG_2_v1.append(acc)\n",
    "    f1_IG_2_v1.append(f1)\n",
    "    rt_IG_2_v1.append(rt)\n",
    "    print(\"colon Orde 3 v1\")\n",
    "    acc,f1,rt = FLNN_Classifier(data_train.copy(), data_test.copy(), 3, 0.6)\n",
    "    akurasi_IG_3_v1.append(acc)\n",
    "    f1_IG_3_v1.append(f1)\n",
    "    rt_IG_3_v1.append(rt)\n",
    "    print(\"colon Orde 4 v1\")\n",
    "    acc,f1,rt = FLNN_Classifier(data_train.copy(), data_test.copy(), 4, 0.6)\n",
    "    akurasi_IG_4_v1.append(acc)\n",
    "    f1_IG_4_v1.append(f1)\n",
    "    rt_IG_4_v1.append(rt)\n",
    "    \n",
    "    print(\"colon Orde 2 v2\")\n",
    "    acc,f1,rt = FLNN_Classifier(data_train.copy(), data_test.copy(), 2, 0.001)\n",
    "    akurasi_IG_2_v2.append(acc)\n",
    "    f1_IG_2_v2.append(f1)\n",
    "    rt_IG_2_v2.append(rt)\n",
    "    print(\"colon Orde 3 v2\")\n",
    "    acc,f1,rt = FLNN_Classifier(data_train.copy(), data_test.copy(), 3, 0.001)\n",
    "    akurasi_IG_3_v2.append(acc)\n",
    "    f1_IG_3_v2.append(f1)\n",
    "    rt_IG_3_v2.append(rt)\n",
    "    print(\"colon Orde 4 v1\")\n",
    "    acc,f1,rt = FLNN_Classifier(data_train.copy(), data_test.copy(), 4, 0.001)\n",
    "    akurasi_IG_4_v2.append(acc)\n",
    "    f1_IG_4_v2.append(f1)\n",
    "    rt_IG_4_v2.append(rt)\n",
    "    \n",
    "akurasi_IG_2_v1,f1_IG_2_v1,rt_IG_2_v1 = np.array(akurasi_IG_2_v1),np.array(f1_IG_2_v1),np.array(rt_IG_2_v1)\n",
    "akurasi_IG_3_v1,f1_IG_3_v1,rt_IG_3_v1 = np.array(akurasi_IG_3_v1),np.array(f1_IG_3_v1),np.array(rt_IG_3_v1)\n",
    "akurasi_IG_4_v1,f1_IG_4_v1,rt_IG_4_v1 = np.array(akurasi_IG_4_v1),np.array(f1_IG_4_v1),np.array(rt_IG_4_v1)\n",
    "\n",
    "akurasi_IG_2_v2,f1_IG_2_v2,rt_IG_2_v2 = np.array(akurasi_IG_2_v2),np.array(f1_IG_2_v2),np.array(rt_IG_2_v2)\n",
    "akurasi_IG_3_v2,f1_IG_3_v2,rt_IG_3_v2 = np.array(akurasi_IG_3_v2),np.array(f1_IG_3_v2),np.array(rt_IG_3_v2)\n",
    "akurasi_IG_4_v2,f1_IG_4_v2,rt_IG_4_v2 = np.array(akurasi_IG_4_v2),np.array(f1_IG_4_v2),np.array(rt_IG_4_v2)\n",
    "\n",
    "\n",
    "#Print Result\n",
    "print('===============================================================================================================================================================================================================')\n",
    "print('Avg accuracy colon cancer orde 2 v1 : ', akurasi_IG_2_v1.mean())\n",
    "print('Avg F1 score colon cancer orde 2 v1 : ', f1_IG_2_v1.mean())\n",
    "print('Avg running time colon cancer orde 2 v1 : ', rt_IG_2_v1.mean())\n",
    "print('Avg accuracy colon cancer orde 3 v1 : ', akurasi_IG_3_v1.mean())\n",
    "print('Avg F1 score colon cancer orde 3 v1 : ', f1_IG_3_v1.mean())\n",
    "print('Avg running time colon cancer orde 3 v1 : ', rt_IG_3_v1.mean())\n",
    "print('Avg accuracy colon cancer orde 4 v1 : ', akurasi_IG_4_v1.mean())\n",
    "print('Avg F1 score colon cancer orde 4 v1 : ', f1_IG_4_v1.mean())\n",
    "print('Avg running time colon cancer orde 4 v1 : ', rt_IG_4_v1.mean())\n",
    "print('===============================================================================================================================================================================================================')\n",
    "print('Avg accuracy colon cancer orde 2 v2 : ', akurasi_IG_2_v2.mean())\n",
    "print('Avg F1 score colon cancer orde 2 v2 : ', f1_IG_2_v2.mean())\n",
    "print('Avg running time colon cancer orde 2 v2 : ', rt_IG_2_v2.mean())\n",
    "print('Avg accuracy colon cancer orde 3 v2 : ', akurasi_IG_3_v2.mean())\n",
    "print('Avg F1 score colon cancer orde 3 v2 : ', f1_IG_3_v2.mean())\n",
    "print('Avg running time colon cancer orde 3 v2 : ', rt_IG_3_v2.mean())\n",
    "print('Avg accuracy colon cancer orde 4 v2 : ', akurasi_IG_4_v2.mean())\n",
    "print('Avg F1 score colon cancer orde 4 v2 : ', f1_IG_4_v2.mean())\n",
    "print('Avg running time colon cancer orde 4 v2 : ', rt_IG_4_v2.mean())\n",
    "print()\n",
    "stop = timeit.default_timer()\n",
    "print(\"Overall Running Time : \", stop-start)"
   ]
  }
 ],
 "metadata": {
  "accelerator": "TPU",
  "colab": {
   "collapsed_sections": [],
   "name": "Copy of Colon - Final Task",
   "provenance": []
  },
  "kernelspec": {
   "display_name": "Python 3",
   "language": "python",
   "name": "python3"
  },
  "language_info": {
   "codemirror_mode": {
    "name": "ipython",
    "version": 3
   },
   "file_extension": ".py",
   "mimetype": "text/x-python",
   "name": "python",
   "nbconvert_exporter": "python",
   "pygments_lexer": "ipython3",
   "version": "3.9.5"
  }
 },
 "nbformat": 4,
 "nbformat_minor": 4
}
